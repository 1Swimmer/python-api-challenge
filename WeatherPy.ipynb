{
 "cells": [
  {
   "cell_type": "markdown",
   "metadata": {},
   "source": [
    "# WeatherPy\n",
    "----\n",
    "\n",
    "#### Note\n",
    "* Instructions have been included for each segment. You do not have to follow them exactly, but they are included to help you think through the steps."
   ]
  },
  {
   "cell_type": "code",
   "execution_count": null,
   "metadata": {},
   "outputs": [],
   "source": [
    "#!pip install citipy"
   ]
  },
  {
   "cell_type": "code",
   "execution_count": 1,
   "metadata": {},
   "outputs": [],
   "source": [
    "# Dependencies and Setup\n",
    "import matplotlib.pyplot as plt\n",
    "import pandas as pd\n",
    "import numpy as np\n",
    "import requests\n",
    "import time\n",
    "from scipy.stats import linregress\n",
    "\n",
    "# Import API key\n",
    "from api_keys import weather_api_key\n",
    "\n",
    "# Incorporated citipy to determine city based on latitude and longitude\n",
    "from citipy import citipy\n",
    "\n",
    "# Output File (CSV)\n",
    "output_data_file = \"output_data/cities.csv\"\n",
    "\n",
    "# Range of latitudes and longitudes\n",
    "lat_range = (-90, 90)\n",
    "lng_range = (-180, 180)"
   ]
  },
  {
   "cell_type": "markdown",
   "metadata": {},
   "source": [
    "## Generate Cities List"
   ]
  },
  {
   "cell_type": "code",
   "execution_count": 2,
   "metadata": {},
   "outputs": [
    {
     "data": {
      "text/plain": [
       "643"
      ]
     },
     "execution_count": 2,
     "metadata": {},
     "output_type": "execute_result"
    }
   ],
   "source": [
    "# List for holding lat_lngs and cities\n",
    "lat_lngs = []\n",
    "cities = []\n",
    "\n",
    "# Create a set of random lat and lng combinations\n",
    "lats = np.random.uniform(low=-90.000, high=90.000, size=1500)\n",
    "lngs = np.random.uniform(low=-180.000, high=180.000, size=1500)\n",
    "lat_lngs = zip(lats, lngs)\n",
    "\n",
    "# Identify nearest city for each lat, lng combination\n",
    "for lat_lng in lat_lngs:\n",
    "    city = citipy.nearest_city(lat_lng[0], lat_lng[1]).city_name\n",
    "    \n",
    "    # If the city is unique, then add it to a our cities list\n",
    "    if city not in cities:\n",
    "        cities.append(city)\n",
    "\n",
    "# Print the city count to confirm sufficient count\n",
    "len(cities)"
   ]
  },
  {
   "cell_type": "markdown",
   "metadata": {},
   "source": [
    "### Perform API Calls\n",
    "* Perform a weather check on each city using a series of successive API calls.\n",
    "* Include a print log of each city as it'sbeing processed (with the city number and city name).\n"
   ]
  },
  {
   "cell_type": "code",
   "execution_count": 4,
   "metadata": {},
   "outputs": [
    {
     "data": {
      "text/plain": [
       "list"
      ]
     },
     "execution_count": 4,
     "metadata": {},
     "output_type": "execute_result"
    }
   ],
   "source": [
    "type(cities)"
   ]
  },
  {
   "cell_type": "code",
   "execution_count": 10,
   "metadata": {},
   "outputs": [
    {
     "data": {
      "text/plain": [
       "{'coord': {'lon': -0.13, 'lat': 51.51},\n",
       " 'weather': [{'id': 801,\n",
       "   'main': 'Clouds',\n",
       "   'description': 'few clouds',\n",
       "   'icon': '02n'}],\n",
       " 'base': 'stations',\n",
       " 'main': {'temp': 45.43,\n",
       "  'feels_like': 39.4,\n",
       "  'temp_min': 44.01,\n",
       "  'temp_max': 46,\n",
       "  'pressure': 1001,\n",
       "  'humidity': 92},\n",
       " 'visibility': 10000,\n",
       " 'wind': {'speed': 7.94, 'deg': 224},\n",
       " 'clouds': {'all': 16},\n",
       " 'dt': 1603773678,\n",
       " 'sys': {'type': 3,\n",
       "  'id': 2019646,\n",
       "  'country': 'GB',\n",
       "  'sunrise': 1603781142,\n",
       "  'sunset': 1603816968},\n",
       " 'timezone': 0,\n",
       " 'id': 2643743,\n",
       " 'name': 'London',\n",
       " 'cod': 200}"
      ]
     },
     "execution_count": 10,
     "metadata": {},
     "output_type": "execute_result"
    }
   ],
   "source": [
    "# I tried for a single city and then try all the cities\n",
    "URL =\"http://api.openweathermap.org/data/2.5/weather?\"\n",
    "units = 'imperial'\n",
    "query_url = f\"{URL}appid={weather_api_key}&units={units}&q=\"\n",
    "restest = requests.get(query_url+ 'london').json()\n",
    "restest"
   ]
  },
  {
   "cell_type": "code",
   "execution_count": 13,
   "metadata": {},
   "outputs": [
    {
     "name": "stdout",
     "output_type": "stream",
     "text": [
      "['bredasdorp', 'nyaunglebin', 'new norfolk', 'fuling', 'albany', 'arraial do cabo', 'mataura', 'rikitea', 'robertsport', 'mehamn', 'upernavik', 'avarua', 'usinsk', 'bluff', 'nguru', 'hobart', 'kanniyakumari', 'turbat', 'busselton', 'inirida', 'bambous virieux', 'bengkulu', 'samusu', 'punta arenas', 'tuktoyaktuk', 'kondinskoye', 'port alfred', 'shimoda', 'rock sound', 'salamanca', 'atuona', 'sao sebastiao', 'puerto ayora', 'kruisfontein', 'nizhneyansk', 'bida', 'cape town', 'lucapa', 'saskylakh', 'vaitupu', 'touros', 'ushuaia', 'vardo', 'nioro', 'pevek', 'balsas', 'mount isa', 'seoul', 'saint-philippe', 'taolanaro', 'kapaa', 'lebu', 'port elizabeth', 'armidale', 'clyde river', 'yellowknife', 'nikolskoye', 'castro', 'liberia', 'east london', 'rocha', 'ponta do sol', 'guekedou', 'sept-iles', 'qaanaaq', 'kurumkan', 'dikson', 'ulaanbaatar', 'teutonia', 'katsuura', 'cagayan de tawi-tawi', 'wright', 'nouakchott', 'vaini', 'amderma', 'hermanus', 'longyearbyen', 'santa ana', 'atar', 'evensk', 'kahului', 'broome', 'pestravka', 'oyama', 'chapais', 'bodaybo', 'najran', 'tasiilaq', 'zacualpa', 'namibe', 'tevaitoa', 'harstad', 'west fargo', 'vila franca do campo', 'tiksi', 'satitoa', 'hualmay', 'salalah', 'santona', 'avera', 'oskemen', 'qurayyat', 'tabou', 'kibala', 'hasaki', 'ancud', 'sumbawa', 'kodiak', 'kaitangata', 'tecpan', 'karasjok', 'sarangani', 'vila velha', 'darhan', 'tallahassee', 'te anau', 'chokurdakh', 'tairua', 'lasa', 'alausi', 'hobyo', 'onega', 'high level', 'phalombe', 'mount gambier', 'rajec', 'talcahuano', 'provideniya', 'huarmey', 'abu dhabi', 'marzuq', 'znamenskoye', 'palmer', 'dano', 'utiroa', 'kirakira', 'maningrida', 'ballina', 'mahebourg', 'mar del plata', 'oum hadjer', 'san patricio', 'krasnogorskoye', 'ixtapa', 'hofn', 'maniitsoq', 'nanortalik', 'baherden', 'rognedino', 'nakusp', 'altay', 'santa rosa', 'nikki', 'poum', 'nelson bay', 'samalaeulu', 'jamestown', 'alihe', 'dalaba', 'walla walla', 'georgetown', 'ende', 'grindavik', 'gizo', 'illoqqortoormiut', 'sabla', 'ati', 'ust-nera', 'waddan', 'sangar', 'victoria', 'falealupo', 'cayenne', 'attawapiskat', 'jiuquan', 'slave lake', 'yialos', 'jiazi', 'souillac', 'sudogda', 'mirnyy', 'college', 'fare', 'sorong', 'natal', 'ruteng', 'karaton', 'khotyn', 'guerrero negro', 'pahrump', 'ostrovnoy', 'vestmannaeyjar', 'farafangana', 'bathsheba', 'gondar', 'pavlodar', 'kloulklubed', 'saleaula', 'mahajanga', 'maraba', 'carutapera', 'hithadhoo', 'ulladulla', 'vryburg', 'motygino', 'saldanha', 'ahipara', 'shache', 'kashiwazaki', 'bethel', 'labuan', 'rio gallegos', 'bilgoraj', 'pucallpa', 'ribeira grande', 'norman wells', 'saint george', 'barrow', 'taoudenni', 'fortuna', 'richards bay', 'santa cruz', 'aksu', 'buin', 'kashi', 'miyakonojo', 'whitefish', 'butaritari', 'airai', 'bibiani', 'baghdad', 'orcopampa', 'manta', 'sehithwa', 'idrinskoye', 'thompson', 'severo-kurilsk', 'hilo', 'klaksvik', 'los llanos de aridane', 'asau', 'rawson', 'graaff-reinet', 'laguna', 'ilulissat', 'uwayl', 'khormuj', 'cap-aux-meules', 'ekibastuz', 'carnarvon', 'paamiut', 'longkou', 'sabang', 'pueblo nuevo', 'kyzyl-mazhalyk', 'dawlatabad', 'mys shmidta', 'biskamzha', 'teya', 'fort nelson', 'makung', 'barstow', 'umzimvubu', 'ballyhaunis', 'hambantota', 'zeya', 'bilibino', 'geraldton', 'nyurba', 'franklin', 'yar-sale', 'mao', 'raga', 'mount pleasant', 'baykit', 'faanui', 'luganville', 'westport', 'batemans bay', 'lavrentiya', 'simitli', 'camacha', 'aldan', 'namatanai', 'luba', 'chuy', 'kiama', 'matata', 'cherskiy', 'nefteyugansk', 'belmonte', 'bo rai', 'tautira', 'walvis bay', 'santo angelo', 'kasongo', 'luderitz', 'poyarkovo', 'granada', 'blieskastel', 'tongliao', 'narsaq', 'lobito', 'hirado', 'lata', 'da nang', 'sucua', 'orlik', 'santa clara', 'dabat', 'port-gentil', 'danville', 'meulaboh', 'husavik', 'khatanga', 'tobermory', 'edgecumbe', 'plast', 'monrovia', 'lagoa', 'ugarcin', 'skalistyy', 'axim', 'palabuhanratu', 'pleshanovo', 'pisco', 'kenai', 'turukhansk', 'gat', 'talnakh', 'cururupu', 'north bend', 'muncar', 'vao', 'ulaangom', 'aitape', 'ures', 'tecuala', 'nago', 'naryan-mar', 'anadyr', 'dom pedrito', 'torbay', 'olinda', 'esperance', 'haibowan', 'macherla', 'sitka', 'grand river south east', 'beloha', 'santa quiteria do maranhao', 'nome', 'miraflores', 'zalantun', 'dicabisagan', 'anshun', 'bawku', 'barentsburg', 'ribeira do pombal', 'biak', 'hastings', 'riviere-du-loup', 'hailar', 'mareeba', 'skjervoy', 'leh', 'teshie', 'alyangula', 'tshela', 'haines junction', 'buala', 'codrington', 'tumannyy', 'zarubino', 'bilma', 'dawei', 'belushya guba', 'tshikapa', 'zhuanghe', 'pirovskoye', 'kerki', 'padang', 'ornskoldsvik', 'qeshm', 'ozinki', 'itambacuri', 'pompeu', 'okhotsk', 'connersville', 'dubbo', 'prince rupert', 'lerwick', 'rudbar', 'port moresby', 'christchurch', 'ossora', 'sapernoye', 'dolbeau', 'port hedland', 'moose factory', 'viedma', 'kropotkin', 'aleksandrov gay', 'san quintin', 'solwezi', 'angola', 'cidreira', 'pokhara', 'vrangel', 'veraval', 'dera ghazi khan', 'yulara', 'taber', 'chegdomyn', 'kautokeino', 'pacific grove', 'west wendover', 'sao filipe', 'hami', 'marienburg', 'odweyne', 'dunedin', 'harlingen', 'kalmunai', 'auka', 'novomykolayivka', 'port macquarie', 'tocopilla', 'lompoc', 'malatya', 'suntar', 'nabire', 'bolshoy uluy', 'tornio', 'gilbues', 'adrar', 'port hawkesbury', 'tidore', 'jumla', 'elban', 'coffs harbour', 'san juan del sur', 'leningradskiy', 'pano aqil', 'chicomuselo', 'skagastrond', 'grande-synthe', 'tilichiki', 'arawa', 'necochea', 'harrogate', 'gazanjyk', 'moranbah', 'coro', 'jales', 'asfi', 'burnie', 'portland', 'puerto madryn', 'semme', 'tiruvottiyur', 'manicore', 'amapa', 'manthani', 'chingirlau', 'buraydah', 'tomatlan', 'isangel', 'borzya', 'lingao', 'pudozh', 'bage', 'jurm', 'iwanai', 'grand baie', 'cambridge', 'san andres', 'acapulco', 'moron', 'sao joao da barra', 'sharya', 'ipueiras', 'itarema', 'umm kaddadah', 'forecariah', 'tamandare', 'verkhoyansk', 'ritchie', 'willowmore', 'isla mujeres', 'penzance', 'bardstown', 'darab', 'elbeuf', 'lethem', 'klyuchi', 'pulwama', 'malkangiri', 'remedios', 'dongli', 'northam', 'bollnas', 'ofunato', 'cap malheureux', 'luoyang', 'sebezh', 'constitucion', 'xuddur', 'hovd', 'tuy hoa', 'ilhabela', 'gustrow', 'vieques', 'porto santo', 'kibre mengist', 'cabo san lucas', 'saint-junien', 'val-david', 'rudnichnyy', 'mantua', 'plyussa', 'mitsamiouli', 'mossoro', 'nigde', 'zhigansk', 'methoni', 'khanpur', 'arlit', 'mitu', 'vezirkopru', 'banepa', 'puerto escondido', 'fukue', 'daxian', 'bichura', 'deder', 'brae', 'rodrigues alves', 'caldwell', 'siocon', 'hongjiang', 'salinopolis', 'hershey', 'whitehorse', 'nowy tomysl', 'atasu', 'alofi', 'kiunga', 'punta alta', 'cangucu', 'usagara', 'ndele', 'lagos', 'gurgan', 'guanica', 'saint pete beach', 'panlaitan', 'briancon', 'gao', 'champasak', 'ust-tsilma', 'golden', 'elizabeth city', 'mweka', 'yanam', 'oriximina', 'sentyabrskiy', 'san cristobal', 'tromso', 'nouadhibou', 'hirara', 'mahon', 'yerbogachen', 'bowen', 'ijaki', 'warqla', 'srednekolymsk', 'kavaratti', 'hamilton', 'ahuimanu', 'quesnel', 'inhambane', 'barawe', 'loreto', 'benjamin constant', 'iskateley', 'port lincoln', 'ketchikan', 'ribas do rio pardo', 'honjo', 'kondoa', 'dickinson', 'ankazoabo', 'ciudad bolivar', 'kortkeros', 'sisimiut', 'maceio', 'lannion', 'samarai', 'sassandra', 'roald', 'port augusta', 'tabuk', 'suileng', 'saint anthony', 'chipinge', 'temir', 'badulla', 'stadtallendorf', 'manzhouli', 'el arenal', 'havre-saint-pierre', 'kiyasovo', 'novosheshminsk', 'mardin', 'southbridge', 'valparaiso', 'methven', 'west plains', 'mahadday weyne', 'dwarka', 'ngunguru', 'mokrousovo', 'tsihombe', 'lorengau', 'rincon', 'coihaique', 'glendive', 'gangotri', 'sesheke', 'san juan', 'quatre cocos', 'ramtek', 'sistranda', 'akyab', 'tuatapere', 'saryg-sep', 'galiwinku', 'zomba', 'urdoma', 'pointe michel', 'egvekinot', 'bolshoye sorokino']\n"
     ]
    }
   ],
   "source": [
    "print(cities)"
   ]
  },
  {
   "cell_type": "code",
   "execution_count": 12,
   "metadata": {},
   "outputs": [
    {
     "ename": "KeyError",
     "evalue": "'weather'",
     "output_type": "error",
     "traceback": [
      "\u001b[1;31m---------------------------------------------------------------------------\u001b[0m",
      "\u001b[1;31mKeyError\u001b[0m                                  Traceback (most recent call last)",
      "\u001b[1;32m<ipython-input-12-45f9f71009b9>\u001b[0m in \u001b[0;36m<module>\u001b[1;34m\u001b[0m\n\u001b[0;32m     13\u001b[0m     \u001b[0mresponse\u001b[0m \u001b[1;33m=\u001b[0m \u001b[0mrequests\u001b[0m\u001b[1;33m.\u001b[0m\u001b[0mget\u001b[0m\u001b[1;33m(\u001b[0m\u001b[1;34mf\"{query_url}&q={city}\"\u001b[0m\u001b[1;33m)\u001b[0m\u001b[1;33m.\u001b[0m\u001b[0mjson\u001b[0m\u001b[1;33m(\u001b[0m\u001b[1;33m)\u001b[0m\u001b[1;33m\u001b[0m\u001b[1;33m\u001b[0m\u001b[0m\n\u001b[0;32m     14\u001b[0m \u001b[1;33m\u001b[0m\u001b[0m\n\u001b[1;32m---> 15\u001b[1;33m     \u001b[0mcity_ID\u001b[0m\u001b[1;33m.\u001b[0m\u001b[0mappend\u001b[0m\u001b[1;33m(\u001b[0m\u001b[0mresponse\u001b[0m\u001b[1;33m[\u001b[0m\u001b[1;34m'weather'\u001b[0m\u001b[1;33m]\u001b[0m\u001b[1;33m[\u001b[0m\u001b[1;34m'id'\u001b[0m\u001b[1;33m]\u001b[0m\u001b[1;33m)\u001b[0m\u001b[1;33m\u001b[0m\u001b[1;33m\u001b[0m\u001b[0m\n\u001b[0m\u001b[0;32m     16\u001b[0m     \u001b[0mcloudiness\u001b[0m\u001b[1;33m.\u001b[0m\u001b[0mappend\u001b[0m\u001b[1;33m(\u001b[0m\u001b[0mresponse\u001b[0m\u001b[1;33m[\u001b[0m\u001b[1;34m'clouds'\u001b[0m\u001b[1;33m]\u001b[0m\u001b[1;33m[\u001b[0m\u001b[1;34m'all'\u001b[0m\u001b[1;33m]\u001b[0m\u001b[1;33m)\u001b[0m\u001b[1;33m\u001b[0m\u001b[1;33m\u001b[0m\u001b[0m\n\u001b[0;32m     17\u001b[0m     \u001b[0mcountry\u001b[0m\u001b[1;33m.\u001b[0m\u001b[0mappend\u001b[0m\u001b[1;33m(\u001b[0m\u001b[0mresponse\u001b[0m\u001b[1;33m[\u001b[0m\u001b[1;34m'sys'\u001b[0m\u001b[1;33m]\u001b[0m\u001b[1;33m[\u001b[0m\u001b[1;34m'country'\u001b[0m\u001b[1;33m]\u001b[0m\u001b[1;33m)\u001b[0m\u001b[1;33m\u001b[0m\u001b[1;33m\u001b[0m\u001b[0m\n",
      "\u001b[1;31mKeyError\u001b[0m: 'weather'"
     ]
    }
   ],
   "source": [
    "# set up lists to hold reponse info\n",
    "city_ID    =[]\n",
    "cloudiness =[]\n",
    "country    =[]\n",
    "date       =[]\n",
    "humidity   =[]\n",
    "lat        =[]\n",
    "lng        =[]\n",
    "maxtemp    =[]\n",
    "windspeed  =[]\n",
    "\n",
    "for city in cities:\n",
    "    response = requests.get(f\"{query_url}&q={city}\").json()\n",
    "    \n",
    "    city_ID.append(response['weather']['id'])\n",
    "    cloudiness.append(response['clouds']['all'])\n",
    "    country.append(response['sys']['country'])\n",
    "    date.append(response['dt'])\n",
    "    humidity.append(response['main']['humidity'])\n",
    "    lat.append(response['coord']['lat'])\n",
    "    lng.append(response['coord']['lon'])\n",
    "    maxtemp.append(response['main']['temp_max'])\n",
    "    windspeed.append(response['wind']['speed'])\n"
   ]
  },
  {
   "cell_type": "code",
   "execution_count": null,
   "metadata": {},
   "outputs": [],
   "source": [
    "print(response)"
   ]
  },
  {
   "cell_type": "markdown",
   "metadata": {},
   "source": [
    "### Convert Raw Data to DataFrame\n",
    "* Export the city data into a .csv.\n",
    "* Display the DataFrame"
   ]
  },
  {
   "cell_type": "code",
   "execution_count": null,
   "metadata": {},
   "outputs": [],
   "source": [
    "# create a data frame \n",
    "citiesDF= pd.DataFrame({\n",
    "    \"City_ID\"    : city_ID\n",
    "    \"city\"       : cities,\n",
    "    \"Cloudiness\" : cloudiness,\n",
    "    \"Country\"    : country,\n",
    "    \"Date\"       : date,\n",
    "    \"Humidity\"   : humidity,\n",
    "    \"Lat\"        : lat,\n",
    "    \"Lng\"        : lng,\n",
    "    \"Max Temp\"   : maxtemp\n",
    "    \"Wind Speed\" : windspeed\n",
    "})"
   ]
  },
  {
   "cell_type": "code",
   "execution_count": null,
   "metadata": {},
   "outputs": [],
   "source": [
    "citiesDF.to_csv(\"output_data/cities.csv\")"
   ]
  },
  {
   "cell_type": "code",
   "execution_count": null,
   "metadata": {},
   "outputs": [],
   "source": [
    "citiesDF.head()"
   ]
  },
  {
   "cell_type": "markdown",
   "metadata": {},
   "source": [
    "### Plotting the Data\n",
    "* Use proper labeling of the plots using plot titles (including date of analysis) and axes labels.\n",
    "* Save the plotted figures as .pngs."
   ]
  },
  {
   "cell_type": "markdown",
   "metadata": {},
   "source": [
    "#### Latitude vs. Temperature Plot"
   ]
  },
  {
   "cell_type": "code",
   "execution_count": null,
   "metadata": {
    "scrolled": true
   },
   "outputs": [],
   "source": [
    "plt.scatter(citiesDF[\"Lat\"], citiesDF[\"Max Temp\"])\n",
    "plt.xlabel(\"Latitude\")\n",
    "plt.ylabel(\"Farenheit\")\n",
    "plt.title(\"#### Latitude vs. Temperature Plot\")"
   ]
  },
  {
   "cell_type": "markdown",
   "metadata": {},
   "source": [
    "#### Latitude vs. Humidity Plot"
   ]
  },
  {
   "cell_type": "code",
   "execution_count": null,
   "metadata": {},
   "outputs": [],
   "source": [
    "plt.scatter(citiesDF[\"Lat\"], citiesDF[\"Humidity\"])\n",
    "plt.xlabel(\"Latitude\")\n",
    "plt.ylabel(\"Humidity (%)\")\n",
    "plt.title(\"Latitude vs. Humidity Plot\")"
   ]
  },
  {
   "cell_type": "markdown",
   "metadata": {},
   "source": [
    "#### Latitude vs. Cloudiness Plot"
   ]
  },
  {
   "cell_type": "code",
   "execution_count": null,
   "metadata": {},
   "outputs": [],
   "source": [
    "plt.scatter(citiesDF[\"Lat\"], citiesDF[\"Cloudiness\"])\n",
    "plt.xlabel(\"Latitude\")\n",
    "plt.ylabel(\"Cloudiness\")\n",
    "plt.title(\"Latitude vs. Cloudiness Plot\")"
   ]
  },
  {
   "cell_type": "markdown",
   "metadata": {},
   "source": [
    "#### Latitude vs. Wind Speed Plot"
   ]
  },
  {
   "cell_type": "code",
   "execution_count": null,
   "metadata": {},
   "outputs": [],
   "source": [
    "plt.scatter(citiesDF[\"Lat\"], citiesDF[\"Wind Speed\"])\n",
    "plt.xlabel(\"Latitude\")\n",
    "plt.ylabel(\"Wind Speed\")\n",
    "plt.title(\"Latitude vs. Wind Speed Plot\")"
   ]
  },
  {
   "cell_type": "markdown",
   "metadata": {},
   "source": [
    "## Linear Regression"
   ]
  },
  {
   "cell_type": "code",
   "execution_count": null,
   "metadata": {},
   "outputs": [],
   "source": [
    "# OPTIONAL: Create a function to create Linear Regression plots\n",
    "x_values = citiesDF['Lat']\n",
    "y_values = citiesDF['Max Temp']\n",
    "(slope, intercept, rvalue, pvalue, stderr) = linregress(x_values, y_values)\n",
    "regress_values = x_values * slope + intercept\n",
    "line_eq = \"y = \" + str(round(slope,2)) + \"x + \" + str(round(intercept,2))\n",
    "plt.scatter(x_values,y_values)\n",
    "plt.plot(x_values,regress_values,\"r-\")\n",
    "plt.annotate(line_eq,(6,10),fontsize=15,color=\"blue\")\n",
    "plt.xlabel('Latitude')\n",
    "plt.ylabel('Temperature')\n",
    "plt.title(\"Latitude vs Temperature\")\n",
    "plt.annotate(line_eq, (20,15))\n",
    "plt.show()"
   ]
  },
  {
   "cell_type": "code",
   "execution_count": null,
   "metadata": {},
   "outputs": [],
   "source": [
    "# Create Northern and Southern Hemisphere DataFrames\n",
    "#north latitude positive and south negative"
   ]
  },
  {
   "cell_type": "code",
   "execution_count": null,
   "metadata": {},
   "outputs": [],
   "source": [
    "# Northern Hemisphere DataFrame\n",
    "Northern=citiesDF.loc[citiesDF[\"lat\"]>0]\n",
    "Northern"
   ]
  },
  {
   "cell_type": "code",
   "execution_count": null,
   "metadata": {},
   "outputs": [],
   "source": [
    "# Southern Hemisphere DataFrame\n",
    "Southern=citiesDF.loc[citiesDF[\"lat\"]<0]\n",
    "Southern"
   ]
  },
  {
   "cell_type": "markdown",
   "metadata": {},
   "source": [
    "####  Northern Hemisphere - Max Temp vs. Latitude Linear Regression"
   ]
  },
  {
   "cell_type": "code",
   "execution_count": null,
   "metadata": {},
   "outputs": [],
   "source": [
    "x_values = Northern['Lat']\n",
    "y_values = Northern['Max Temp']\n",
    "(slope, intercept, rvalue, pvalue, stderr) = linregress(x_values, y_values)\n",
    "regress_values = x_values * slope + intercept\n",
    "line_eq = \"y = \" + str(round(slope,2)) + \"x + \" + str(round(intercept,2))\n",
    "plt.scatter(x_values,y_values)\n",
    "plt.plot(x_values,regress_values,\"r-\")\n",
    "plt.annotate(line_eq,(6,10),fontsize=15,color=\"blue\")\n",
    "plt.xlabel('Latitude')\n",
    "plt.ylabel('Temperature')\n",
    "plt.title(\"Northern Hemisphere : Latitude vs Temperature\")\n",
    "plt.annotate(line_eq, (20,15))\n",
    "plt.show()"
   ]
  },
  {
   "cell_type": "markdown",
   "metadata": {},
   "source": [
    "####  Southern Hemisphere - Max Temp vs. Latitude Linear Regression"
   ]
  },
  {
   "cell_type": "code",
   "execution_count": null,
   "metadata": {},
   "outputs": [],
   "source": [
    "x_values = Southern['Lat']\n",
    "y_values = Southern['Max Temp']\n",
    "(slope, intercept, rvalue, pvalue, stderr) = linregress(x_values, y_values)\n",
    "regress_values = x_values * slope + intercept\n",
    "line_eq = \"y = \" + str(round(slope,2)) + \"x + \" + str(round(intercept,2))\n",
    "plt.scatter(x_values,y_values)\n",
    "plt.plot(x_values,regress_values,\"r-\")\n",
    "plt.annotate(line_eq,(6,10),fontsize=15,color=\"blue\")\n",
    "plt.xlabel('Latitude')\n",
    "plt.ylabel('Temperature')\n",
    "plt.title(\"Southern Hemisphere : Latitude vs Temperature\")\n",
    "plt.annotate(line_eq, (20,15))\n",
    "plt.show()"
   ]
  },
  {
   "cell_type": "code",
   "execution_count": null,
   "metadata": {},
   "outputs": [],
   "source": [
    "#Explanations:\n",
    "#this lineal regression explains how distance from the ecuator affects for max temperatures.\n",
    "#My guess, it is that such temperatures may happen on summer time for North Hemisphere."
   ]
  },
  {
   "cell_type": "markdown",
   "metadata": {},
   "source": [
    "####  Northern Hemisphere - Humidity (%) vs. Latitude Linear Regression"
   ]
  },
  {
   "cell_type": "code",
   "execution_count": null,
   "metadata": {},
   "outputs": [],
   "source": [
    "x_values = Northern['Lat']\n",
    "y_values = Northern['Humidity']\n",
    "(slope, intercept, rvalue, pvalue, stderr) = linregress(x_values, y_values)\n",
    "regress_values = x_values * slope + intercept\n",
    "line_eq = \"y = \" + str(round(slope,2)) + \"x + \" + str(round(intercept,2))\n",
    "plt.scatter(x_values,y_values)\n",
    "plt.plot(x_values,regress_values,\"r-\")\n",
    "plt.annotate(line_eq,(6,10),fontsize=15,color=\"blue\")\n",
    "plt.xlabel('Latitude')\n",
    "plt.ylabel('Humidity (%)')\n",
    "plt.title(\"Northern Hemisphere Humidity (%) vs. Latitude Linear Regression\")\n",
    "plt.annotate(line_eq, (20,15))\n",
    "plt.show()"
   ]
  },
  {
   "cell_type": "markdown",
   "metadata": {},
   "source": [
    "####  Southern Hemisphere - Humidity (%) vs. Latitude Linear Regression"
   ]
  },
  {
   "cell_type": "code",
   "execution_count": null,
   "metadata": {},
   "outputs": [],
   "source": [
    "x_values = Southern['Lat']\n",
    "y_values = Southern['Max Temp']\n",
    "(slope, intercept, rvalue, pvalue, stderr) = linregress(x_values, y_values)\n",
    "regress_values = x_values * slope + intercept\n",
    "line_eq = \"y = \" + str(round(slope,2)) + \"x + \" + str(round(intercept,2))\n",
    "plt.scatter(x_values,y_values)\n",
    "plt.plot(x_values,regress_values,\"r-\")\n",
    "plt.annotate(line_eq,(6,10),fontsize=15,color=\"blue\")\n",
    "plt.xlabel('Latitude')\n",
    "plt.ylabel('Humidity (%)')\n",
    "plt.title(\"Southern Hemisphere Humidity (%) vs. Latitude Linear Regression\")\n",
    "plt.annotate(line_eq, (20,15))\n",
    "plt.show()"
   ]
  },
  {
   "cell_type": "code",
   "execution_count": null,
   "metadata": {},
   "outputs": [],
   "source": [
    "#Explanations:\n",
    "#this lineal regression explains how distance from the ecuator affects for Humidity.\n",
    "#Seems that it changes in reference to distance from the ecuador and in reference to the poles."
   ]
  },
  {
   "cell_type": "markdown",
   "metadata": {},
   "source": [
    "####  Northern Hemisphere - Cloudiness (%) vs. Latitude Linear Regression"
   ]
  },
  {
   "cell_type": "code",
   "execution_count": null,
   "metadata": {},
   "outputs": [],
   "source": [
    "x_values = Northern['Lat']\n",
    "y_values = Northern['Cloudiness']\n",
    "(slope, intercept, rvalue, pvalue, stderr) = linregress(x_values, y_values)\n",
    "regress_values = x_values * slope + intercept\n",
    "line_eq = \"y = \" + str(round(slope,2)) + \"x + \" + str(round(intercept,2))\n",
    "plt.scatter(x_values,y_values)\n",
    "plt.plot(x_values,regress_values,\"r-\")\n",
    "plt.annotate(line_eq,(6,10),fontsize=15,color=\"blue\")\n",
    "plt.xlabel('Latitude')\n",
    "plt.ylabel('Cloudiness')\n",
    "plt.title(\"Northern Hemisphere Cloudiness vs. Latitude Linear Regression\")\n",
    "plt.annotate(line_eq, (20,15))\n",
    "plt.show()"
   ]
  },
  {
   "cell_type": "markdown",
   "metadata": {},
   "source": [
    "####  Southern Hemisphere - Cloudiness (%) vs. Latitude Linear Regression"
   ]
  },
  {
   "cell_type": "code",
   "execution_count": null,
   "metadata": {},
   "outputs": [],
   "source": [
    "x_values = Southern['Lat']\n",
    "y_values = Southern['Cloudiness']\n",
    "(slope, intercept, rvalue, pvalue, stderr) = linregress(x_values, y_values)\n",
    "regress_values = x_values * slope + intercept\n",
    "line_eq = \"y = \" + str(round(slope,2)) + \"x + \" + str(round(intercept,2))\n",
    "plt.scatter(x_values,y_values)\n",
    "plt.plot(x_values,regress_values,\"r-\")\n",
    "plt.annotate(line_eq,(6,10),fontsize=15,color=\"blue\")\n",
    "plt.xlabel('Latitude')\n",
    "plt.ylabel('Cloudiness')\n",
    "plt.title(\"Southern Hemisphere Cloudiness vs. Latitude Linear Regression\")\n",
    "plt.annotate(line_eq, (20,15))\n",
    "plt.show()"
   ]
  },
  {
   "cell_type": "code",
   "execution_count": null,
   "metadata": {},
   "outputs": [],
   "source": [
    "#Explanations:\n",
    "#this lineal regression explains how distance from the ecuator affects for existece of clouds.\n",
    "#This can not be concistent because this could be affected by other factors like winds and Temperatures that may cause these clouds and sometimes storms and typhons."
   ]
  },
  {
   "cell_type": "markdown",
   "metadata": {},
   "source": [
    "####  Northern Hemisphere - Wind Speed (mph) vs. Latitude Linear Regression"
   ]
  },
  {
   "cell_type": "code",
   "execution_count": null,
   "metadata": {},
   "outputs": [],
   "source": [
    "x_values = Northern['Lat']\n",
    "y_values = Northern['Wind Speed']\n",
    "(slope, intercept, rvalue, pvalue, stderr) = linregress(x_values, y_values)\n",
    "regress_values = x_values * slope + intercept\n",
    "line_eq = \"y = \" + str(round(slope,2)) + \"x + \" + str(round(intercept,2))\n",
    "plt.scatter(x_values,y_values)\n",
    "plt.plot(x_values,regress_values,\"r-\")\n",
    "plt.annotate(line_eq,(6,10),fontsize=15,color=\"blue\")\n",
    "plt.xlabel('Latitude')\n",
    "plt.ylabel('Wind Speed (mph)')\n",
    "plt.title(\"Northern Hemisphere Wind Speed vs. Latitude Linear Regression\")\n",
    "plt.annotate(line_eq, (20,15))\n",
    "plt.show()"
   ]
  },
  {
   "cell_type": "markdown",
   "metadata": {},
   "source": [
    "####  Southern Hemisphere - Wind Speed (mph) vs. Latitude Linear Regression"
   ]
  },
  {
   "cell_type": "code",
   "execution_count": null,
   "metadata": {},
   "outputs": [],
   "source": [
    "x_values = Southern['Lat']\n",
    "y_values = Southern['Wind Speed']\n",
    "(slope, intercept, rvalue, pvalue, stderr) = linregress(x_values, y_values)\n",
    "regress_values = x_values * slope + intercept\n",
    "line_eq = \"y = \" + str(round(slope,2)) + \"x + \" + str(round(intercept,2))\n",
    "plt.scatter(x_values,y_values)\n",
    "plt.plot(x_values,regress_values,\"r-\")\n",
    "plt.annotate(line_eq,(6,10),fontsize=15,color=\"blue\")\n",
    "plt.xlabel('Latitude')\n",
    "plt.ylabel('Wind Speed (mph)')\n",
    "plt.title(\"Southern Hemisphere Wind Speed vs. Latitude Linear Regression\")\n",
    "plt.annotate(line_eq, (20,15))\n",
    "plt.show()"
   ]
  },
  {
   "cell_type": "code",
   "execution_count": null,
   "metadata": {},
   "outputs": [],
   "source": [
    "#Explanations:\n",
    "#this lineal regression explains how distance from the ecuator affects for wind speed\n",
    "#This also can be affected by storms,heigh or if it is in a mountain or a valley just too mention other factors."
   ]
  }
 ],
 "metadata": {
  "anaconda-cloud": {},
  "kernel_info": {
   "name": "python3"
  },
  "kernelspec": {
   "display_name": "Python 3",
   "language": "python",
   "name": "python3"
  },
  "language_info": {
   "codemirror_mode": {
    "name": "ipython",
    "version": 3
   },
   "file_extension": ".py",
   "mimetype": "text/x-python",
   "name": "python",
   "nbconvert_exporter": "python",
   "pygments_lexer": "ipython3",
   "version": "3.8.3"
  },
  "latex_envs": {
   "LaTeX_envs_menu_present": true,
   "autoclose": false,
   "autocomplete": true,
   "bibliofile": "biblio.bib",
   "cite_by": "apalike",
   "current_citInitial": 1,
   "eqLabelWithNumbers": true,
   "eqNumInitial": 1,
   "hotkeys": {
    "equation": "Ctrl-E",
    "itemize": "Ctrl-I"
   },
   "labels_anchors": false,
   "latex_user_defs": false,
   "report_style_numbering": false,
   "user_envs_cfg": false
  },
  "nteract": {
   "version": "0.12.3"
  }
 },
 "nbformat": 4,
 "nbformat_minor": 2
}
