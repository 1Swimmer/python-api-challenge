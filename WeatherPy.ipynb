{
 "cells": [
  {
   "cell_type": "markdown",
   "metadata": {},
   "source": [
    "# WeatherPy\n",
    "----\n",
    "\n",
    "#### Note\n",
    "* Instructions have been included for each segment. You do not have to follow them exactly, but they are included to help you think through the steps."
   ]
  },
  {
   "cell_type": "code",
   "execution_count": null,
   "metadata": {},
   "outputs": [],
   "source": [
    "#!pip install citipy"
   ]
  },
  {
   "cell_type": "code",
   "execution_count": 2,
   "metadata": {},
   "outputs": [],
   "source": [
    "# Dependencies and Setup\n",
    "import matplotlib.pyplot as plt\n",
    "import pandas as pd\n",
    "import numpy as np\n",
    "import requests\n",
    "import time\n",
    "from scipy.stats import linregress\n",
    "\n",
    "# Import API key\n",
    "from api_keys import weather_api_key\n",
    "\n",
    "# Incorporated citipy to determine city based on latitude and longitude\n",
    "from citipy import citipy\n",
    "\n",
    "# Output File (CSV)\n",
    "output_data_file = \"output_data/cities.csv\"\n",
    "\n",
    "# Range of latitudes and longitudes\n",
    "lat_range = (-90, 90)\n",
    "lng_range = (-180, 180)"
   ]
  },
  {
   "cell_type": "markdown",
   "metadata": {},
   "source": [
    "## Generate Cities List"
   ]
  },
  {
   "cell_type": "code",
   "execution_count": 3,
   "metadata": {},
   "outputs": [
    {
     "data": {
      "text/plain": [
       "616"
      ]
     },
     "execution_count": 3,
     "metadata": {},
     "output_type": "execute_result"
    }
   ],
   "source": [
    "# List for holding lat_lngs and cities\n",
    "lat_lngs = []\n",
    "cities = []\n",
    "\n",
    "# Create a set of random lat and lng combinations\n",
    "lats = np.random.uniform(low=-90.000, high=90.000, size=1500)\n",
    "lngs = np.random.uniform(low=-180.000, high=180.000, size=1500)\n",
    "lat_lngs = zip(lats, lngs)\n",
    "\n",
    "# Identify nearest city for each lat, lng combination\n",
    "for lat_lng in lat_lngs:\n",
    "    city = citipy.nearest_city(lat_lng[0], lat_lng[1]).city_name\n",
    "    \n",
    "# If the city is unique, then add it to a our cities list\n",
    "    if city not in cities:\n",
    "        cities.append(city)\n",
    "\n",
    "# Print the city count to confirm sufficient count\n",
    "len(cities)"
   ]
  },
  {
   "cell_type": "markdown",
   "metadata": {},
   "source": [
    "### Perform API Calls\n",
    "* Perform a weather check on each city using a series of successive API calls.\n",
    "* Include a print log of each city as it'sbeing processed (with the city number and city name).\n"
   ]
  },
  {
   "cell_type": "code",
   "execution_count": 4,
   "metadata": {},
   "outputs": [
    {
     "data": {
      "text/plain": [
       "list"
      ]
     },
     "execution_count": 4,
     "metadata": {},
     "output_type": "execute_result"
    }
   ],
   "source": [
    "type(cities)"
   ]
  },
  {
   "cell_type": "code",
   "execution_count": 5,
   "metadata": {},
   "outputs": [
    {
     "data": {
      "text/plain": [
       "{'coord': {'lon': -0.13, 'lat': 51.51},\n",
       " 'weather': [{'id': 800,\n",
       "   'main': 'Clear',\n",
       "   'description': 'clear sky',\n",
       "   'icon': '01n'}],\n",
       " 'base': 'stations',\n",
       " 'main': {'temp': 47.79,\n",
       "  'feels_like': 40.42,\n",
       "  'temp_min': 46,\n",
       "  'temp_max': 48.99,\n",
       "  'pressure': 1001,\n",
       "  'humidity': 88},\n",
       " 'visibility': 10000,\n",
       " 'wind': {'speed': 10.76, 'deg': 233},\n",
       " 'clouds': {'all': 0},\n",
       " 'dt': 1603842540,\n",
       " 'sys': {'type': 3,\n",
       "  'id': 2019646,\n",
       "  'country': 'GB',\n",
       "  'sunrise': 1603781142,\n",
       "  'sunset': 1603816968},\n",
       " 'timezone': 0,\n",
       " 'id': 2643743,\n",
       " 'name': 'London',\n",
       " 'cod': 200}"
      ]
     },
     "execution_count": 5,
     "metadata": {},
     "output_type": "execute_result"
    }
   ],
   "source": [
    "# I tried for a single city and then try all the cities\n",
    "URL =\"http://api.openweathermap.org/data/2.5/weather?\"\n",
    "units = 'imperial'\n",
    "query_url = f\"{URL}appid={weather_api_key}&units={units}&q=\"\n",
    "restest = requests.get(query_url+ 'london').json()\n",
    "restest"
   ]
  },
  {
   "cell_type": "code",
   "execution_count": 6,
   "metadata": {},
   "outputs": [
    {
     "name": "stdout",
     "output_type": "stream",
     "text": [
      "['iquique', 'mahebourg', 'biak', 'cairo', 'ushuaia', 'illoqqortoormiut', 'georgetown', 'yabassi', 'saldanha', 'butaritari', 'bengkulu', 'nanortalik', 'constitucion', 'batagay-alyta', 'sentyabrskiy', 'puerto ayora', 'kapaa', 'atuona', 'weinan', 'san cristobal', 'attawapiskat', 'saskylakh', 'khatanga', 'toliary', 'port alfred', 'astoria', 'bambous virieux', 'rikitea', 'faanui', 'mataura', 'tuktoyaktuk', 'taolanaro', 'sorland', 'pangnirtung', 'klaksvik', 'margate', 'saint george', 'punta arenas', 'terenos', 'barrow', 'hobart', 'ryotsu', 'ponta do sol', 'severo-kurilsk', 'hilo', 'myitkyina', 'carnarvon', 'barbar', 'celestun', 'raudeberg', 'soe', 'hermanus', 'vardo', 'asau', 'srednekolymsk', 'asekeyevo', 'tautira', 'nikolskoye', 'songjianghe', 'huarmey', 'mullaitivu', 'lompoc', 'ribeira grande', 'yellowknife', 'lolua', 'salalah', 'muros', 'guerrero negro', 'cabedelo', 'namatanai', 'panormos', 'adrar', 'los llanos de aridane', 'tura', 'kloulklubed', 'ulagan', 'saint-pierre', 'rawannawi', 'bilma', 'vancouver', 'hihifo', 'saint-gaudens', 'jadu', 'cape town', 'pochutla', 'busselton', 'castro', 'bluff', 'norman wells', 'bethel', 'new norfolk', 'beringovskiy', 'yanan', 'bathsheba', 'touros', 'mananjary', 'chuy', 'avarua', 'qasigiannguit', 'sechura', 'chunskiy', 'litoral del san juan', 'alindao', 'buraydah', 'grand river south east', 'coihaique', 'portland', 'kaeo', 'jamestown', 'albany', 'kerrville', 'ostersund', 'mosquera', 'belaya gora', 'boundiali', 'berlevag', 'chara', 'vaini', 'airai', 'yerbogachen', 'cherskiy', 'tumannyy', 'lavrentiya', 'corinto', 'fortuna', 'saint-philippe', 'bredasdorp', 'hanna', 'luderitz', 'yelizovo', 'hofn', 'rio grande', 'severnyy', 'borogontsy', 'provideniya', 'coquimbo', 'bubaque', 'alofi', 'yomitan', 'samarai', 'thohoyandou', 'tasiilaq', 'ofaqim', 'port hawkesbury', 'mogwase', 'kahului', 'youhao', 'bartica', 'kidal', 'arraial do cabo', 'kathu', 'souillac', 'nelson bay', 'tahoua', 'komsomolskiy', 'mount isa', 'lakatoro', 'kruisfontein', 'tiarei', 'ouesso', 'trinidad', 'stornoway', 'achacachi', 'general pico', 'victoria', 'kamenskoye', 'nicoya', 'coari', 'penzance', 'avera', 'camp verde', 'arlit', 'cidreira', 'geraldton', 'praya', 'lebu', 'svay rieng', 'hamilton', 'fort nelson', 'cockburn town', 'mount gambier', 'sorvag', 'alexandria', 'wilkie', 'kaitangata', 'barentsburg', 'bushehr', 'nieuw amsterdam', 'ullapool', 'nushki', 'hithadhoo', 'narasannapeta', 'kuche', 'kanniyakumari', 'sayat', 'belushya guba', 'marcona', 'tal', 'mariental', 'manzil salim', 'visnes', 'sao jose da coroa grande', 'stuttgart', 'teknaf', 'ancud', 'angoram', 'torbay', 'wampusirpi', 'qui nhon', 'saleaula', 'ballstad', 'ewa beach', 'praia da vitoria', 'japura', 'buala', 'narsaq', 'masallatah', 'santa marta', 'paamiut', 'erzin', 'kisiwani', 'spilimbergo', 'qaanaaq', 'rembang', 'amderma', 'lethem', 'rizhao', 'vao', 'lorengau', 'mar del plata', 'tullahoma', 'busayra', 'san patricio', 'la rioja', 'kalabo', 'lubawa', 'san quintin', 'tasbuget', 'yar-sale', 'buta', 'fairbanks', 'hasaki', 'frankfort', 'thompson', 'rawson', 'ios', 'tenenkou', 'pevek', 'tocopilla', 'silvan', 'peniche', 'port hardy', 'kumluca', 'aybak', 'raga', 'sibu', 'puerto del rosario', 'tecolutla', 'orgun', 'yoichi', 'chupa', 'tuatapere', 'nasice', 'zhytomyr', 'yarada', 'kavieng', 'clyde river', 'tuggurt', 'waipawa', 'balikpapan', 'kaseda', 'talnakh', 'rubiataba', 'sitka', 'namibe', 'rudbar', 'rawdon', 'mogadishu', 'ostrovnoy', 'lagoa', 'mildura', 'bayburt', 'conceicao do araguaia', 'nyimba', 'shimoda', 'kuryk', 'saint-leu', 'issenye', 'mokhsogollokh', 'dingle', 'upernavik', 'tagusao', 'hoquiam', 'chokurdakh', 'solnechnyy', 'tenango', 'esil', 'oviedo', 'kamenka', 'oussouye', 'sorong', 'ahipara', 'tual', 'karaul', 'strezhevoy', 'trelew', 'caravelas', 'le pradet', 'galle', 'mys shmidta', 'mahajanga', 'cayenne', 'langham', 'bonnyville', 'bridlington', 'asayita', 'meyungs', 'urengoy', 'belmonte', 'novyy urengoy', 'mollendo', 'yaan', 'baruun-urt', 'gambela', 'ulaanbaatar', 'nizhneyansk', 'san antero', 'vaitupu', 'liuhe', 'auki', 'poum', 'katsuura', 'karasjok', 'san joaquin', 'havre-saint-pierre', 'marfino', 'riyadh', 'eenhana', 'port hedland', 'egvekinot', 'laguna', 'nizwa', 'takoradi', 'yulara', 'cabo san lucas', 'loma bonita', 'warqla', 'black diamond', 'rio claro', 'korla', 'ossora', 'port elizabeth', 'vanimo', 'pangoa', 'arman', 'san policarpo', 'broome', 'nyurba', 'kodiak', 'fare', 'sola', 'newport', 'huasahuasi', 'constantine', 'lagos', 'bay saint louis', 'ilave', 'madarounfa', 'port lincoln', 'yangambi', 'ranong', 'tiksi', 'inhambane', 'kodinsk', 'shelburne', 'barra patuca', 'barawe', 'pilar', 'vadso', 'greymouth', 'cortez', 'iqaluit', 'east london', 'tallahassee', 'kerteh', 'riberalta', 'saint-augustin', 'meridian', 'necochea', 'fortuna foothills', 'lugovskiy', 'santa cruz de la palma', 'hualmay', 'la ronge', 'cockburn harbour', 'jinchang', 'khashuri', 'sioux lookout', 'leningradskiy', 'kolokani', 'tsihombe', 'tucuman', 'mabay', 'yatou', 'vani', 'talaya', 'maputo', 'inirida', 'felidhoo', 'grindavik', 'puerto escondido', 'ust-tsilma', 'pareora', 'maraa', 'grand gaube', 'unai', 'perene', 'djambala', 'santa isabel do rio negro', 'kilis', 'fangshan', 'tiznit', 'hami', 'pangkalanbuun', 'illapel', 'arona', 'kalmunai', 'viesca', 'nadadores', 'olga', 'sabla', 'maningrida', 'ilulissat', 'iisalmi', 'zhanakorgan', 'bandarbeyla', 'aklavik', 'port blair', 'lyubar', 'rocha', 'umzimvubu', 'kota kinabalu', 'mataram', 'goderich', 'keokuk', 'sao filipe', 'milford', 'mareeba', 'pathein', 'killarney', 'makubetsu', 'alice springs', 'sao jose do campestre', 'anito', 'high level', 'pasighat', 'kilindoni', 'mingshui', 'silale', 'ambovombe', 'savinka', 'kushmurun', 'maniitsoq', 'dikson', 'abu samrah', 'taltal', 'finschhafen', 'penon blanco', 'russell', 'ayan', 'todos santos', 'gurgan', 'viligili', 'kiruna', 'toftir', 'chicama', 'zelenoborsk', 'pisco', 'cacequi', 'mahibadhoo', 'tefe', 'deputatskiy', 'malanje', 'bam', 'neiafu', 'santa rosa', 'usinsk', 'burica', 'sungaipenuh', 'dharchula', 'parrita', 'dharmadam', 'sapao', 'kokopo', 'bulgan', 'dongsheng', 'abu dhabi', 'dergachi', 'matola', 'nevers', 'horn lake', 'urumqi', 'palmer', 'nemuro', 'samalaeulu', 'syracuse', 'faya', 'sinnamary', 'geresk', 'husavik', 'krasnoselkup', 'sabya', 'longhua', 'ruhengeri', 'bestobe', 'mantua', 'teguise', 'thayetmyo', 'yanam', 'kudchi', 'hay river', 'olafsvik', 'araguatins', 'tambura', 'ayagoz', 'batticaloa', 'killam', 'wicklow', 'sur', 'agirish', 'murovane', 'erzurum', 'sao felix do xingu', 'srikakulam', 'george', 'razole', 'awbari', 'bad neustadt', 'gobabis', 'llangefni', 'rantoul', 'madridejos', 'victor harbor', 'sao marcos', 'santiago del estero', 'alugan', 'luwuk', 'belozerskoye', 'areosa', 'shumskiy', 'berezovka', 'esperance', 'henties bay', 'the pas', 'puerto palomas', 'tukrah', 'kyren', 'sterling', 'beyneu', 'havelock', 'general cepeda', 'saint-joseph', 'itarema', 'rio gallegos', 'samastipur', 'aksu', 'coahuayana', 'kuybyshevo', 'nouakchott', 'kralendijk', 'harper', 'sol-iletsk', 'kavaratti', 'fort-shevchenko', 'numan', 'nouadhibou', 'longyearbyen', 'tazovskiy', 'nioro', 'malwan', 'atyrau', 'marion', 'kraskino', 'anadyr', 'maiduguri', 'ilhabela', 'haines junction', 'dunedin', 'kalmeshwar', 'nova granada', 'nabire', 'alyangula', 'galesong', 'okhotsk', 'itoigawa', 'borba', 'sobolevo', 'marzuq', 'alamosa', 'thinadhoo', 'jiblah', 'edd', 'vazante', 'troon', 'kihei', 'huanren', 'beaufort', 'san juan', 'hoghiz', 'ust-omchug', 'pacific grove', 'nuuk', 'araouane', 'zhovti vody', 'kupang', 'halalo']\n"
     ]
    }
   ],
   "source": [
    "print(cities)"
   ]
  },
  {
   "cell_type": "code",
   "execution_count": 21,
   "metadata": {},
   "outputs": [
    {
     "name": "stdout",
     "output_type": "stream",
     "text": [
      "iquique 3887127\n",
      "mahebourg 934322\n",
      "biak 1637001\n",
      "cairo 360630\n",
      "ushuaia 3833367\n",
      "Missing City... skipping.\n",
      "georgetown 1735106\n",
      "yabassi 2221046\n",
      "saldanha 3361934\n",
      "butaritari 2110227\n",
      "bengkulu 1649150\n",
      "nanortalik 3421765\n",
      "constitucion 3893726\n",
      "batagay-alyta 2027042\n",
      "Missing City... skipping.\n",
      "puerto ayora 3652764\n",
      "kapaa 5848280\n",
      "atuona 4020109\n",
      "weinan 1791636\n",
      "san cristobal 3628473\n",
      "Missing City... skipping.\n",
      "saskylakh 2017155\n",
      "khatanga 2022572\n",
      "Missing City... skipping.\n",
      "port alfred 964432\n",
      "astoria 5711847\n",
      "bambous virieux 1106677\n",
      "rikitea 4030556\n",
      "faanui 4034551\n",
      "mataura 6201424\n",
      "tuktoyaktuk 6170031\n",
      "Missing City... skipping.\n",
      "sorland 3137469\n",
      "pangnirtung 6096551\n",
      "klaksvik 2618795\n",
      "margate 2643044\n",
      "saint george 5546220\n",
      "punta arenas 3874787\n",
      "terenos 3446619\n",
      "barrow 5880054\n",
      "hobart 2163355\n",
      "ryotsu 1853371\n",
      "ponta do sol 2264557\n",
      "severo-kurilsk 2121385\n",
      "hilo 5855927\n",
      "myitkyina 1307741\n",
      "carnarvon 2074865\n",
      "Missing City... skipping.\n",
      "celestun 3531368\n",
      "raudeberg 3146487\n",
      "soe 1626703\n",
      "hermanus 3366880\n",
      "vardo 777019\n",
      "asau 686090\n",
      "srednekolymsk 2121025\n",
      "asekeyevo 580676\n",
      "tautira 4033557\n",
      "nikolskoye 546105\n",
      "songjianghe 2034691\n",
      "huarmey 3939168\n",
      "Missing City... skipping.\n",
      "lompoc 5367788\n",
      "ribeira grande 3372707\n",
      "yellowknife 6185377\n",
      "Missing City... skipping.\n",
      "salalah 286621\n",
      "muros 3115824\n",
      "guerrero negro 4021858\n",
      "cabedelo 3404558\n",
      "namatanai 2090021\n",
      "panormos 255849\n",
      "adrar 2381972\n",
      "los llanos de aridane 2514651\n",
      "tura 1254046\n",
      "kloulklubed 7671223\n",
      "ulagan 1488048\n",
      "saint-pierre 935214\n",
      "Missing City... skipping.\n",
      "bilma 2446796\n",
      "vancouver 6173331\n",
      "Missing City... skipping.\n",
      "saint-gaudens 2980043\n",
      "jadu 2216432\n",
      "cape town 3369157\n",
      "pochutla 3517970\n",
      "busselton 2075265\n",
      "castro 3466704\n",
      "bluff 2206939\n",
      "norman wells 6089245\n",
      "bethel 5282297\n",
      "new norfolk 2155415\n",
      "beringovskiy 2126710\n",
      "Missing City... skipping.\n",
      "bathsheba 3374083\n",
      "touros 3386213\n",
      "mananjary 1061335\n",
      "chuy 3443061\n",
      "avarua 4035715\n",
      "qasigiannguit 3420768\n",
      "sechura 3691954\n",
      "chunskiy 1507636\n",
      "Missing City... skipping.\n",
      "alindao 240999\n",
      "buraydah 107304\n",
      "Missing City... skipping.\n",
      "coihaique 3894426\n",
      "portland 5746545\n",
      "kaeo 2189343\n",
      "jamestown 5122534\n",
      "albany 5106841\n",
      "kerrville 4703078\n",
      "ostersund 2685750\n",
      "mosquera 3674292\n",
      "belaya gora 2126785\n",
      "boundiali 2290836\n",
      "berlevag 780687\n",
      "chara 2025630\n",
      "vaini 4032243\n",
      "airai 1651810\n",
      "yerbogachen 2012956\n",
      "cherskiy 2126199\n",
      "Missing City... skipping.\n",
      "lavrentiya 4031637\n",
      "corinto 259289\n",
      "fortuna 5563839\n",
      "saint-philippe 935215\n",
      "bredasdorp 1015776\n",
      "hanna 5970234\n",
      "luderitz 3355672\n",
      "yelizovo 2119538\n",
      "hofn 2630299\n",
      "rio grande 3451138\n",
      "severnyy 496358\n",
      "borogontsy 2026160\n",
      "provideniya 4031574\n",
      "coquimbo 3893629\n",
      "bubaque 2374583\n",
      "alofi 4036284\n",
      "Missing City... skipping.\n",
      "samarai 2132606\n",
      "thohoyandou 949224\n",
      "tasiilaq 3424607\n",
      "ofaqim 293992\n",
      "port hawkesbury 6111867\n",
      "mogwase 974933\n",
      "kahului 5847411\n",
      "youhao 2033301\n",
      "bartica 3379507\n",
      "kidal 2455290\n",
      "arraial do cabo 3471451\n",
      "kathu 1153035\n",
      "souillac 933995\n",
      "nelson bay 2155562\n",
      "tahoua 2439376\n",
      "komsomolskiy 1513491\n",
      "mount isa 2065594\n",
      "lakatoro 2136697\n",
      "kruisfontein 986717\n",
      "tiarei 4033356\n",
      "ouesso 2255564\n",
      "trinidad 3902377\n",
      "stornoway 2636790\n",
      "achacachi 3924610\n",
      "general pico 3855075\n",
      "victoria 1819729\n",
      "Missing City... skipping.\n",
      "nicoya 3622716\n",
      "coari 3664539\n",
      "penzance 2640377\n",
      "avera 4231997\n",
      "camp verde 5288261\n",
      "arlit 2447513\n",
      "cidreira 3466165\n",
      "geraldton 2070998\n",
      "praya 3374333\n",
      "lebu 3883457\n",
      "svay rieng 1821993\n",
      "hamilton 4513583\n",
      "fort nelson 5955902\n",
      "cockburn town 3576994\n",
      "mount gambier 2156643\n",
      "Missing City... skipping.\n",
      "alexandria 361058\n",
      "wilkie 6182001\n",
      "kaitangata 2208248\n",
      "Missing City... skipping.\n",
      "bushehr 139817\n",
      "nieuw amsterdam 3383434\n",
      "ullapool 2635199\n",
      "nushki 1168749\n",
      "hithadhoo 1282256\n",
      "narasannapeta 1261853\n",
      "Missing City... skipping.\n",
      "kanniyakumari 1268008\n",
      "sayat 1218436\n",
      "Missing City... skipping.\n",
      "Missing City... skipping.\n",
      "tal 1164076\n",
      "mariental 3355595\n",
      "manzil salim 2469252\n",
      "visnes 3131500\n",
      "sao jose da coroa grande 3388456\n",
      "stuttgart 2825297\n",
      "teknaf 1185095\n",
      "ancud 3899695\n",
      "angoram 2100765\n",
      "torbay 6167817\n",
      "Missing City... skipping.\n",
      "qui nhon 1568574\n",
      "Missing City... skipping.\n",
      "Missing City... skipping.\n",
      "ewa beach 5855051\n",
      "praia da vitoria 3372760\n",
      "japura 1642773\n",
      "buala 2109528\n",
      "narsaq 3421719\n",
      "masallatah 2215163\n",
      "santa marta 3668605\n",
      "paamiut 3421193\n",
      "erzin 296852\n",
      "kisiwani 156918\n",
      "spilimbergo 3166262\n",
      "qaanaaq 3831208\n",
      "rembang 8060713\n",
      "Missing City... skipping.\n",
      "lethem 3379316\n",
      "rizhao 1797132\n",
      "vao 2137773\n",
      "lorengau 2092164\n",
      "mar del plata 3430863\n",
      "tullahoma 4663494\n",
      "busayra 249842\n",
      "san patricio 4726521\n",
      "la rioja 3336897\n",
      "kalabo 915471\n",
      "lubawa 3093028\n",
      "san quintin 3984997\n",
      "Missing City... skipping.\n",
      "yar-sale 1486321\n",
      "buta 217570\n",
      "fairbanks 5861897\n",
      "hasaki 2112802\n",
      "frankfort 1003764\n",
      "thompson 6165406\n",
      "rawson 3839307\n",
      "ios 261772\n",
      "tenenkou 2449938\n",
      "pevek 2122090\n",
      "tocopilla 3869716\n",
      "silvan 300796\n",
      "peniche 2264923\n",
      "port hardy 6111862\n",
      "kumluca 305681\n",
      "Missing City... skipping.\n",
      "raga 368246\n",
      "sibu 1735902\n",
      "puerto del rosario 2512186\n",
      "tecolutla 3516148\n",
      "Missing City... skipping.\n",
      "yoichi 2129218\n",
      "chupa 567589\n",
      "tuatapere 2180815\n",
      "nasice 3194581\n",
      "zhytomyr 686967\n",
      "yarada 1252783\n",
      "kavieng 2094342\n",
      "clyde river 5924351\n",
      "Missing City... skipping.\n",
      "waipawa 2206874\n",
      "balikpapan 1650527\n",
      "kaseda 1859964\n",
      "talnakh 1490256\n",
      "rubiataba 3450843\n",
      "sitka 5557293\n",
      "namibe 3347019\n",
      "rudbar 1128239\n",
      "rawdon 6117611\n",
      "mogadishu 53654\n",
      "ostrovnoy 556268\n",
      "lagoa 3372964\n",
      "mildura 2157698\n",
      "bayburt 750938\n",
      "conceicao do araguaia 3401845\n",
      "nyimba 900056\n",
      "shimoda 1852357\n",
      "kuryk 609919\n",
      "saint-leu 6690297\n",
      "issenye 158974\n",
      "mokhsogollokh 2019867\n",
      "dingle 1714733\n",
      "upernavik 3418910\n",
      "tagusao 1684245\n",
      "hoquiam 5797693\n",
      "chokurdakh 2126123\n",
      "solnechnyy 2016307\n",
      "tenango 3516003\n",
      "esil 1524296\n",
      "oviedo 3114711\n",
      "kamenka 553766\n",
      "oussouye 2246901\n",
      "sorong 1626542\n",
      "ahipara 2194098\n",
      "tual 1623197\n",
      "Missing City... skipping.\n",
      "strezhevoy 1490796\n",
      "trelew 3833883\n",
      "caravelas 3466980\n",
      "le pradet 3002510\n",
      "galle 1246294\n",
      "Missing City... skipping.\n",
      "mahajanga 1062663\n",
      "cayenne 3382160\n",
      "langham 6049403\n",
      "bonnyville 5905616\n",
      "bridlington 2654728\n",
      "Missing City... skipping.\n",
      "Missing City... skipping.\n",
      "urengoy 1488414\n",
      "belmonte 3470137\n",
      "novyy urengoy 1496511\n",
      "mollendo 3934707\n",
      "yaan 2338660\n",
      "baruun-urt 2032614\n",
      "gambela 337405\n",
      "ulaanbaatar 2028462\n",
      "Missing City... skipping.\n",
      "san antero 3670199\n",
      "Missing City... skipping.\n",
      "liuhe 2036033\n",
      "auki 2109701\n",
      "poum 2138555\n",
      "katsuura 2112309\n",
      "karasjok 779350\n",
      "san joaquin 5392126\n",
      "havre-saint-pierre 5972291\n",
      "marfino 529368\n",
      "riyadh 108410\n",
      "eenhana 3357804\n",
      "port hedland 2063042\n",
      "egvekinot 4031742\n",
      "laguna 5364271\n",
      "nizwa 286987\n",
      "takoradi 2294915\n",
      "yulara 6355222\n",
      "cabo san lucas 3985710\n",
      "loma bonita 3705652\n",
      "Missing City... skipping.\n",
      "black diamond 5787423\n",
      "rio claro 3451234\n",
      "korla 1529376\n",
      "ossora 2122389\n",
      "port elizabeth 964420\n",
      "vanimo 2084442\n",
      "pangoa 3933104\n",
      "arman 2127060\n",
      "san policarpo 1688696\n",
      "broome 5110365\n",
      "nyurba 2018735\n",
      "kodiak 5866583\n",
      "fare 4034496\n",
      "sola 2134814\n",
      "newport 2641598\n",
      "huasahuasi 3939123\n",
      "constantine 2501152\n",
      "lagos 2332453\n",
      "bay saint louis 4417205\n",
      "ilave 3938451\n",
      "madarounfa 2441526\n",
      "port lincoln 2063036\n",
      "yangambi 203717\n",
      "ranong 1150965\n",
      "tiksi 2015306\n",
      "inhambane 1045114\n",
      "kodinsk 1503037\n",
      "shelburne 6145890\n",
      "barra patuca 3614835\n",
      "Missing City... skipping.\n",
      "pilar 3392126\n",
      "vadso 777073\n",
      "greymouth 2206895\n",
      "cortez 5418104\n",
      "iqaluit 5983720\n",
      "east london 1006984\n",
      "tallahassee 4174715\n",
      "Missing City... skipping.\n",
      "riberalta 3906466\n",
      "saint-augustin 6137462\n",
      "meridian 5600685\n",
      "necochea 3430443\n",
      "fortuna foothills 5295143\n",
      "Missing City... skipping.\n",
      "santa cruz de la palma 2511180\n",
      "hualmay 3939761\n",
      "la ronge 6050066\n",
      "Missing City... skipping.\n",
      "jinchang 1805733\n",
      "khashuri 613988\n",
      "sioux lookout 6148373\n",
      "leningradskiy 2123814\n",
      "kolokani 2454955\n",
      "Missing City... skipping.\n",
      "tucuman 3836873\n",
      "mabay 1704644\n",
      "yatou 1786855\n",
      "vani 611219\n",
      "talaya 2120769\n",
      "maputo 1040652\n",
      "inirida 3671450\n",
      "Missing City... skipping.\n",
      "grindavik 3416888\n",
      "puerto escondido 3520994\n",
      "ust-tsilma 477940\n",
      "pareora 2181133\n",
      "maraa 3663475\n",
      "grand gaube 934479\n",
      "unai 3445764\n",
      "perene 3932502\n",
      "djambala 2260401\n",
      "santa isabel do rio negro 3662489\n",
      "kilis 307864\n",
      "fangshan 1811542\n",
      "tiznit 2527087\n",
      "hami 1529484\n",
      "pangkalanbuun 1632694\n",
      "illapel 3887344\n",
      "arona 2521582\n",
      "kalmunai 1242110\n",
      "viesca 3980230\n",
      "nadadores 3995154\n",
      "olga 2018553\n",
      "sabla 2349431\n",
      "maningrida 2067089\n",
      "ilulissat 3423146\n",
      "iisalmi 656820\n",
      "zhanakorgan 1517323\n",
      "bandarbeyla 64814\n",
      "aklavik 5882953\n",
      "port blair 1259385\n",
      "lyubar 702486\n",
      "rocha 3440777\n",
      "Missing City... skipping.\n",
      "kota kinabalu 1733432\n",
      "mataram 1635882\n",
      "goderich 5962442\n",
      "keokuk 4863349\n",
      "sao filipe 3374210\n",
      "milford 4838652\n",
      "mareeba 2158767\n",
      "pathein 1328421\n",
      "killarney 2963370\n",
      "makubetsu 2129324\n",
      "alice springs 2077895\n",
      "sao jose do campestre 3388437\n",
      "anito 1730622\n",
      "high level 5975004\n",
      "pasighat 1260206\n"
     ]
    },
    {
     "name": "stdout",
     "output_type": "stream",
     "text": [
      "kilindoni 157429\n",
      "mingshui 1800498\n",
      "silale 594693\n",
      "ambovombe 1079048\n",
      "savinka 498295\n",
      "kushmurun 1519924\n",
      "maniitsoq 3421982\n",
      "dikson 1507390\n",
      "abu samrah 172515\n",
      "taltal 3870243\n",
      "finschhafen 2097418\n",
      "penon blanco 3992967\n",
      "russell 4047434\n",
      "ayan 2027316\n",
      "todos santos 3981432\n",
      "Missing City... skipping.\n",
      "Missing City... skipping.\n",
      "kiruna 605155\n",
      "Missing City... skipping.\n",
      "chicama 3698359\n",
      "zelenoborsk 1485286\n",
      "pisco 3932145\n",
      "cacequi 3468553\n",
      "mahibadhoo 1337605\n",
      "tefe 3661944\n",
      "deputatskiy 2028164\n",
      "malanje 2239862\n",
      "bam 141736\n",
      "neiafu 4032420\n",
      "santa rosa 1687894\n",
      "usinsk 863061\n",
      "Missing City... skipping.\n",
      "sungaipenuh 1625929\n",
      "dharchula 1272864\n",
      "parrita 3622537\n",
      "dharmadam 1272856\n",
      "Missing City... skipping.\n",
      "kokopo 2093685\n",
      "bulgan 2032201\n",
      "dongsheng 1812256\n",
      "abu dhabi 292968\n",
      "dergachi 566456\n",
      "matola 1039854\n",
      "nevers 2990473\n",
      "horn lake 4430400\n",
      "urumqi 1529102\n",
      "palmer 4946620\n",
      "nemuro 2128975\n",
      "Missing City... skipping.\n",
      "syracuse 2523082\n",
      "faya 110690\n",
      "sinnamary 3380290\n",
      "Missing City... skipping.\n",
      "husavik 2629833\n",
      "krasnoselkup 1502073\n",
      "sabya 102651\n",
      "longhua 1802618\n",
      "ruhengeri 201521\n",
      "bestobe 1525376\n",
      "mantua 3174050\n",
      "teguise 2510573\n",
      "thayetmyo 1292037\n",
      "yanam 1252795\n",
      "Missing City... skipping.\n",
      "hay river 5972762\n",
      "olafsvik 3414079\n",
      "Missing City... skipping.\n",
      "tambura 366444\n",
      "ayagoz 1525988\n",
      "batticaloa 1250161\n",
      "killam 5991888\n",
      "wicklow 2960935\n",
      "sur 286245\n",
      "agirish 1512101\n",
      "murovane 700607\n",
      "erzurum 315367\n",
      "sao felix do xingu 3388847\n",
      "srikakulam 1255647\n",
      "george 1002145\n",
      "razole 1258269\n",
      "awbari 2219235\n",
      "Missing City... skipping.\n",
      "gobabis 3357247\n",
      "llangefni 2644037\n",
      "rantoul 4907131\n",
      "madridejos 2514334\n",
      "victor harbor 2059470\n",
      "sao marcos 3448533\n",
      "santiago del estero 3835869\n",
      "alugan 1731248\n",
      "luwuk 1637001\n",
      "belozerskoye 1510421\n",
      "areosa 2742765\n",
      "shumskiy 1491977\n",
      "berezovka 630166\n",
      "esperance 2071860\n",
      "henties bay 3356832\n",
      "the pas 6164499\n",
      "puerto palomas 3991350\n",
      "tukrah 88834\n",
      "kyren 2021031\n",
      "sterling 4787534\n",
      "beyneu 610298\n",
      "havelock 4470244\n",
      "general cepeda 4005870\n",
      "saint-joseph 6690296\n",
      "itarema 3393692\n",
      "rio gallegos 3838859\n",
      "samastipur 1257551\n",
      "aksu 1529660\n",
      "coahuayana 4013679\n",
      "kuybyshevo 538061\n",
      "nouakchott 2377450\n",
      "kralendijk 3513563\n",
      "harper 2276492\n",
      "sol-iletsk 491019\n",
      "kavaratti 1267390\n",
      "fort-shevchenko 609906\n",
      "numan 2328617\n",
      "nouadhibou 2377457\n",
      "longyearbyen 2729907\n",
      "tazovskiy 1489853\n",
      "nioro 2412408\n",
      "Missing City... skipping.\n",
      "atyrau 610529\n",
      "marion 4260977\n",
      "kraskino 2021644\n",
      "anadyr 2127202\n",
      "maiduguri 2331447\n",
      "ilhabela 3461425\n",
      "haines junction 5969025\n",
      "dunedin 2191562\n",
      "kalmeshwar 1268344\n",
      "nova granada 3456164\n",
      "nabire 1634614\n",
      "alyangula 2079582\n",
      "galesong 1644605\n",
      "okhotsk 2122605\n",
      "itoigawa 1861285\n",
      "borba 3405051\n",
      "sobolevo 525426\n",
      "marzuq 72181\n",
      "alamosa 5411479\n",
      "thinadhoo 1337610\n",
      "jiblah 74185\n",
      "edd 338345\n",
      "vazante 3445418\n",
      "troon 2635442\n",
      "kihei 5849297\n",
      "huanren 2036713\n",
      "beaufort 1733874\n",
      "san juan 3837213\n",
      "hoghiz 676087\n",
      "ust-omchug 2120047\n",
      "pacific grove 5380437\n",
      "nuuk 3421319\n",
      "araouane 2460954\n",
      "zhovti vody 687196\n",
      "kupang 2057087\n",
      "Missing City... skipping.\n"
     ]
    }
   ],
   "source": [
    "# set up lists to hold reponse info\n",
    "city_ID    =[]\n",
    "name       =[]\n",
    "cloudiness =[]\n",
    "country    =[]\n",
    "date       =[]\n",
    "humidity   =[]\n",
    "lat        =[]\n",
    "lng        =[]\n",
    "maxtemp    =[]\n",
    "windspeed  =[]\n",
    "\n",
    "for city in cities:\n",
    "    response = requests.get(query_url+city).json()\n",
    "        #f\"{query_url}&q={city}\").json()\n",
    "    \n",
    "    try:\n",
    "        city_ID.append(response['id'])\n",
    "        cloudiness.append(response['clouds']['all'])\n",
    "        country.append(response['sys']['country'])\n",
    "        date.append(response['dt'])\n",
    "        humidity.append(response['main']['humidity'])\n",
    "        lat.append(response['coord']['lat'])\n",
    "        lng.append(response['coord']['lon'])\n",
    "        maxtemp.append(response['main']['temp_max'])\n",
    "        windspeed.append(response['wind']['speed'])\n",
    "        name.append(response['name'])\n",
    "        print(f\"{city} {response['id']}\")\n",
    "    \n",
    "    except(KeyError, IndexError):\n",
    "\n",
    "        print(\"Missing City... skipping.\")\n",
    "        "
   ]
  },
  {
   "cell_type": "code",
   "execution_count": 14,
   "metadata": {},
   "outputs": [
    {
     "name": "stdout",
     "output_type": "stream",
     "text": [
      "{'cod': '404', 'message': 'city not found'}\n"
     ]
    }
   ],
   "source": [
    "print(response)"
   ]
  },
  {
   "cell_type": "markdown",
   "metadata": {},
   "source": [
    "### Convert Raw Data to DataFrame\n",
    "* Export the city data into a .csv.\n",
    "* Display the DataFrame"
   ]
  },
  {
   "cell_type": "code",
   "execution_count": 22,
   "metadata": {},
   "outputs": [],
   "source": [
    "# create a data frame \n",
    "citiesDF= pd.DataFrame({\n",
    "    \"City_ID\"    : city_ID,\n",
    "    \"city\"       : name,\n",
    "    \"Cloudiness\" : cloudiness,\n",
    "    \"Country\"    : country,\n",
    "    \"Date\"       : date,\n",
    "    \"Humidity\"   : humidity,\n",
    "    \"Lat\"        : lat,\n",
    "    \"Lng\"        : lng,\n",
    "    \"Max Temp\"   : maxtemp,\n",
    "    \"Wind Speed\" : windspeed\n",
    "})"
   ]
  },
  {
   "cell_type": "code",
   "execution_count": 23,
   "metadata": {},
   "outputs": [],
   "source": [
    "citiesDF.to_csv(\"output_data/cities.csv\")"
   ]
  },
  {
   "cell_type": "code",
   "execution_count": 24,
   "metadata": {},
   "outputs": [
    {
     "data": {
      "text/html": [
       "<div>\n",
       "<style scoped>\n",
       "    .dataframe tbody tr th:only-of-type {\n",
       "        vertical-align: middle;\n",
       "    }\n",
       "\n",
       "    .dataframe tbody tr th {\n",
       "        vertical-align: top;\n",
       "    }\n",
       "\n",
       "    .dataframe thead th {\n",
       "        text-align: right;\n",
       "    }\n",
       "</style>\n",
       "<table border=\"1\" class=\"dataframe\">\n",
       "  <thead>\n",
       "    <tr style=\"text-align: right;\">\n",
       "      <th></th>\n",
       "      <th>City_ID</th>\n",
       "      <th>city</th>\n",
       "      <th>Cloudiness</th>\n",
       "      <th>Country</th>\n",
       "      <th>Date</th>\n",
       "      <th>Humidity</th>\n",
       "      <th>Lat</th>\n",
       "      <th>Lng</th>\n",
       "      <th>Max Temp</th>\n",
       "      <th>Wind Speed</th>\n",
       "    </tr>\n",
       "  </thead>\n",
       "  <tbody>\n",
       "    <tr>\n",
       "      <th>0</th>\n",
       "      <td>3887127</td>\n",
       "      <td>Iquique</td>\n",
       "      <td>0</td>\n",
       "      <td>CL</td>\n",
       "      <td>1603843991</td>\n",
       "      <td>68</td>\n",
       "      <td>-20.22</td>\n",
       "      <td>-70.14</td>\n",
       "      <td>64.40</td>\n",
       "      <td>13.87</td>\n",
       "    </tr>\n",
       "    <tr>\n",
       "      <th>1</th>\n",
       "      <td>934322</td>\n",
       "      <td>Mahébourg</td>\n",
       "      <td>3</td>\n",
       "      <td>MU</td>\n",
       "      <td>1603843991</td>\n",
       "      <td>80</td>\n",
       "      <td>-20.41</td>\n",
       "      <td>57.70</td>\n",
       "      <td>70.00</td>\n",
       "      <td>1.99</td>\n",
       "    </tr>\n",
       "    <tr>\n",
       "      <th>2</th>\n",
       "      <td>1637001</td>\n",
       "      <td>Biak</td>\n",
       "      <td>99</td>\n",
       "      <td>ID</td>\n",
       "      <td>1603843775</td>\n",
       "      <td>67</td>\n",
       "      <td>-0.91</td>\n",
       "      <td>122.88</td>\n",
       "      <td>82.62</td>\n",
       "      <td>3.74</td>\n",
       "    </tr>\n",
       "    <tr>\n",
       "      <th>3</th>\n",
       "      <td>360630</td>\n",
       "      <td>Cairo</td>\n",
       "      <td>20</td>\n",
       "      <td>EG</td>\n",
       "      <td>1603843951</td>\n",
       "      <td>73</td>\n",
       "      <td>30.06</td>\n",
       "      <td>31.25</td>\n",
       "      <td>71.60</td>\n",
       "      <td>6.93</td>\n",
       "    </tr>\n",
       "    <tr>\n",
       "      <th>4</th>\n",
       "      <td>3833367</td>\n",
       "      <td>Ushuaia</td>\n",
       "      <td>40</td>\n",
       "      <td>AR</td>\n",
       "      <td>1603843840</td>\n",
       "      <td>39</td>\n",
       "      <td>-54.80</td>\n",
       "      <td>-68.30</td>\n",
       "      <td>46.40</td>\n",
       "      <td>8.05</td>\n",
       "    </tr>\n",
       "  </tbody>\n",
       "</table>\n",
       "</div>"
      ],
      "text/plain": [
       "   City_ID       city  Cloudiness Country        Date  Humidity    Lat  \\\n",
       "0  3887127    Iquique           0      CL  1603843991        68 -20.22   \n",
       "1   934322  Mahébourg           3      MU  1603843991        80 -20.41   \n",
       "2  1637001       Biak          99      ID  1603843775        67  -0.91   \n",
       "3   360630      Cairo          20      EG  1603843951        73  30.06   \n",
       "4  3833367    Ushuaia          40      AR  1603843840        39 -54.80   \n",
       "\n",
       "      Lng  Max Temp  Wind Speed  \n",
       "0  -70.14     64.40       13.87  \n",
       "1   57.70     70.00        1.99  \n",
       "2  122.88     82.62        3.74  \n",
       "3   31.25     71.60        6.93  \n",
       "4  -68.30     46.40        8.05  "
      ]
     },
     "execution_count": 24,
     "metadata": {},
     "output_type": "execute_result"
    }
   ],
   "source": [
    "citiesDF.head()"
   ]
  },
  {
   "cell_type": "markdown",
   "metadata": {},
   "source": [
    "### Plotting the Data\n",
    "* Use proper labeling of the plots using plot titles (including date of analysis) and axes labels.\n",
    "* Save the plotted figures as .pngs."
   ]
  },
  {
   "cell_type": "markdown",
   "metadata": {},
   "source": [
    "#### Latitude vs. Temperature Plot"
   ]
  },
  {
   "cell_type": "code",
   "execution_count": 25,
   "metadata": {
    "scrolled": true
   },
   "outputs": [
    {
     "data": {
      "text/plain": [
       "Text(0.5, 1.0, '#### Latitude vs. Temperature Plot')"
      ]
     },
     "execution_count": 25,
     "metadata": {},
     "output_type": "execute_result"
    },
    {
     "data": {
      "image/png": "[encoded data removed]",
      "text/plain": [
       "<Figure size 432x288 with 1 Axes>"
      ]
     },
     "metadata": {
      "needs_background": "light"
     },
     "output_type": "display_data"
    }
   ],
   "source": [
    "plt.scatter(citiesDF[\"Lat\"], citiesDF[\"Max Temp\"])\n",
    "plt.xlabel(\"Latitude\")\n",
    "plt.ylabel(\"Farenheit\")\n",
    "plt.title(\"#### Latitude vs. Temperature Plot\")"
   ]
  },
  {
   "cell_type": "markdown",
   "metadata": {},
   "source": [
    "#### Latitude vs. Humidity Plot"
   ]
  },
  {
   "cell_type": "code",
   "execution_count": 26,
   "metadata": {},
   "outputs": [
    {
     "data": {
      "text/plain": [
       "Text(0.5, 1.0, 'Latitude vs. Humidity Plot')"
      ]
     },
     "execution_count": 26,
     "metadata": {},
     "output_type": "execute_result"
    },
    {
     "data": {
      "image/png": "[encoded data removed]",
      "text/plain": [
       "<Figure size 432x288 with 1 Axes>"
      ]
     },
     "metadata": {
      "needs_background": "light"
     },
     "output_type": "display_data"
    }
   ],
   "source": [
    "plt.scatter(citiesDF[\"Lat\"], citiesDF[\"Humidity\"])\n",
    "plt.xlabel(\"Latitude\")\n",
    "plt.ylabel(\"Humidity (%)\")\n",
    "plt.title(\"Latitude vs. Humidity Plot\")"
   ]
  },
  {
   "cell_type": "markdown",
   "metadata": {},
   "source": [
    "#### Latitude vs. Cloudiness Plot"
   ]
  },
  {
   "cell_type": "code",
   "execution_count": 27,
   "metadata": {},
   "outputs": [
    {
     "data": {
      "text/plain": [
       "Text(0.5, 1.0, 'Latitude vs. Cloudiness Plot')"
      ]
     },
     "execution_count": 27,
     "metadata": {},
     "output_type": "execute_result"
    },
    {
     "data": {
      "image/png": "[encoded data removed]",
      "text/plain": [
       "<Figure size 432x288 with 1 Axes>"
      ]
     },
     "metadata": {
      "needs_background": "light"
     },
     "output_type": "display_data"
    }
   ],
   "source": [
    "plt.scatter(citiesDF[\"Lat\"], citiesDF[\"Cloudiness\"])\n",
    "plt.xlabel(\"Latitude\")\n",
    "plt.ylabel(\"Cloudiness\")\n",
    "plt.title(\"Latitude vs. Cloudiness Plot\")"
   ]
  },
  {
   "cell_type": "markdown",
   "metadata": {},
   "source": [
    "#### Latitude vs. Wind Speed Plot"
   ]
  },
  {
   "cell_type": "code",
   "execution_count": 28,
   "metadata": {},
   "outputs": [
    {
     "data": {
      "text/plain": [
       "Text(0.5, 1.0, 'Latitude vs. Wind Speed Plot')"
      ]
     },
     "execution_count": 28,
     "metadata": {},
     "output_type": "execute_result"
    },
    {
     "data": {
      "image/png": "[encoded data removed]",
      "text/plain": [
       "<Figure size 432x288 with 1 Axes>"
      ]
     },
     "metadata": {
      "needs_background": "light"
     },
     "output_type": "display_data"
    }
   ],
   "source": [
    "plt.scatter(citiesDF[\"Lat\"], citiesDF[\"Wind Speed\"])\n",
    "plt.xlabel(\"Latitude\")\n",
    "plt.ylabel(\"Wind Speed\")\n",
    "plt.title(\"Latitude vs. Wind Speed Plot\")"
   ]
  },
  {
   "cell_type": "markdown",
   "metadata": {},
   "source": [
    "## Linear Regression"
   ]
  },
  {
   "cell_type": "code",
   "execution_count": 29,
   "metadata": {},
   "outputs": [
    {
     "data": {
      "image/png": "[encoded data removed]",
      "text/plain": [
       "<Figure size 432x288 with 1 Axes>"
      ]
     },
     "metadata": {
      "needs_background": "light"
     },
     "output_type": "display_data"
    }
   ],
   "source": [
    "# OPTIONAL: Create a function to create Linear Regression plots\n",
    "x_values = citiesDF['Lat']\n",
    "y_values = citiesDF['Max Temp']\n",
    "(slope, intercept, rvalue, pvalue, stderr) = linregress(x_values, y_values)\n",
    "regress_values = x_values * slope + intercept\n",
    "line_eq = \"y = \" + str(round(slope,2)) + \"x + \" + str(round(intercept,2))\n",
    "plt.scatter(x_values,y_values)\n",
    "plt.plot(x_values,regress_values,\"r-\")\n",
    "plt.annotate(line_eq,(6,10),fontsize=15,color=\"blue\")\n",
    "plt.xlabel('Latitude')\n",
    "plt.ylabel('Temperature')\n",
    "plt.title(\"Latitude vs Temperature\")\n",
    "plt.annotate(line_eq, (20,15))\n",
    "plt.show()"
   ]
  },
  {
   "cell_type": "code",
   "execution_count": null,
   "metadata": {},
   "outputs": [],
   "source": [
    "# Create Northern and Southern Hemisphere DataFrames\n",
    "#north latitude positive and south negative"
   ]
  },
  {
   "cell_type": "code",
   "execution_count": 31,
   "metadata": {},
   "outputs": [
    {
     "data": {
      "text/html": [
       "<div>\n",
       "<style scoped>\n",
       "    .dataframe tbody tr th:only-of-type {\n",
       "        vertical-align: middle;\n",
       "    }\n",
       "\n",
       "    .dataframe tbody tr th {\n",
       "        vertical-align: top;\n",
       "    }\n",
       "\n",
       "    .dataframe thead th {\n",
       "        text-align: right;\n",
       "    }\n",
       "</style>\n",
       "<table border=\"1\" class=\"dataframe\">\n",
       "  <thead>\n",
       "    <tr style=\"text-align: right;\">\n",
       "      <th></th>\n",
       "      <th>City_ID</th>\n",
       "      <th>city</th>\n",
       "      <th>Cloudiness</th>\n",
       "      <th>Country</th>\n",
       "      <th>Date</th>\n",
       "      <th>Humidity</th>\n",
       "      <th>Lat</th>\n",
       "      <th>Lng</th>\n",
       "      <th>Max Temp</th>\n",
       "      <th>Wind Speed</th>\n",
       "    </tr>\n",
       "  </thead>\n",
       "  <tbody>\n",
       "    <tr>\n",
       "      <th>3</th>\n",
       "      <td>360630</td>\n",
       "      <td>Cairo</td>\n",
       "      <td>20</td>\n",
       "      <td>EG</td>\n",
       "      <td>1603843951</td>\n",
       "      <td>73</td>\n",
       "      <td>30.06</td>\n",
       "      <td>31.25</td>\n",
       "      <td>71.60</td>\n",
       "      <td>6.93</td>\n",
       "    </tr>\n",
       "    <tr>\n",
       "      <th>5</th>\n",
       "      <td>1735106</td>\n",
       "      <td>George Town</td>\n",
       "      <td>20</td>\n",
       "      <td>MY</td>\n",
       "      <td>1603843992</td>\n",
       "      <td>94</td>\n",
       "      <td>5.41</td>\n",
       "      <td>100.34</td>\n",
       "      <td>77.00</td>\n",
       "      <td>3.36</td>\n",
       "    </tr>\n",
       "    <tr>\n",
       "      <th>6</th>\n",
       "      <td>2221046</td>\n",
       "      <td>Yabassi</td>\n",
       "      <td>64</td>\n",
       "      <td>CM</td>\n",
       "      <td>1603843992</td>\n",
       "      <td>91</td>\n",
       "      <td>4.46</td>\n",
       "      <td>9.97</td>\n",
       "      <td>74.98</td>\n",
       "      <td>0.16</td>\n",
       "    </tr>\n",
       "    <tr>\n",
       "      <th>8</th>\n",
       "      <td>2110227</td>\n",
       "      <td>Butaritari</td>\n",
       "      <td>98</td>\n",
       "      <td>KI</td>\n",
       "      <td>1603843993</td>\n",
       "      <td>66</td>\n",
       "      <td>3.07</td>\n",
       "      <td>172.79</td>\n",
       "      <td>80.98</td>\n",
       "      <td>4.43</td>\n",
       "    </tr>\n",
       "    <tr>\n",
       "      <th>10</th>\n",
       "      <td>3421765</td>\n",
       "      <td>Nanortalik</td>\n",
       "      <td>100</td>\n",
       "      <td>GL</td>\n",
       "      <td>1603843993</td>\n",
       "      <td>90</td>\n",
       "      <td>60.14</td>\n",
       "      <td>-45.24</td>\n",
       "      <td>30.42</td>\n",
       "      <td>4.25</td>\n",
       "    </tr>\n",
       "    <tr>\n",
       "      <th>...</th>\n",
       "      <td>...</td>\n",
       "      <td>...</td>\n",
       "      <td>...</td>\n",
       "      <td>...</td>\n",
       "      <td>...</td>\n",
       "      <td>...</td>\n",
       "      <td>...</td>\n",
       "      <td>...</td>\n",
       "      <td>...</td>\n",
       "      <td>...</td>\n",
       "    </tr>\n",
       "    <tr>\n",
       "      <th>555</th>\n",
       "      <td>2120047</td>\n",
       "      <td>Ust'-Omchug</td>\n",
       "      <td>0</td>\n",
       "      <td>RU</td>\n",
       "      <td>1603844135</td>\n",
       "      <td>85</td>\n",
       "      <td>61.15</td>\n",
       "      <td>149.63</td>\n",
       "      <td>19.09</td>\n",
       "      <td>1.21</td>\n",
       "    </tr>\n",
       "    <tr>\n",
       "      <th>556</th>\n",
       "      <td>5380437</td>\n",
       "      <td>Pacific Grove</td>\n",
       "      <td>1</td>\n",
       "      <td>US</td>\n",
       "      <td>1603844135</td>\n",
       "      <td>13</td>\n",
       "      <td>36.62</td>\n",
       "      <td>-121.92</td>\n",
       "      <td>73.40</td>\n",
       "      <td>5.82</td>\n",
       "    </tr>\n",
       "    <tr>\n",
       "      <th>557</th>\n",
       "      <td>3421319</td>\n",
       "      <td>Nuuk</td>\n",
       "      <td>0</td>\n",
       "      <td>GL</td>\n",
       "      <td>1603843945</td>\n",
       "      <td>79</td>\n",
       "      <td>64.18</td>\n",
       "      <td>-51.72</td>\n",
       "      <td>24.01</td>\n",
       "      <td>5.99</td>\n",
       "    </tr>\n",
       "    <tr>\n",
       "      <th>558</th>\n",
       "      <td>2460954</td>\n",
       "      <td>Araouane</td>\n",
       "      <td>0</td>\n",
       "      <td>ML</td>\n",
       "      <td>1603844136</td>\n",
       "      <td>14</td>\n",
       "      <td>18.90</td>\n",
       "      <td>-3.53</td>\n",
       "      <td>84.52</td>\n",
       "      <td>3.04</td>\n",
       "    </tr>\n",
       "    <tr>\n",
       "      <th>559</th>\n",
       "      <td>687196</td>\n",
       "      <td>Zhovti Vody</td>\n",
       "      <td>0</td>\n",
       "      <td>UA</td>\n",
       "      <td>1603844136</td>\n",
       "      <td>81</td>\n",
       "      <td>48.35</td>\n",
       "      <td>33.50</td>\n",
       "      <td>44.60</td>\n",
       "      <td>6.71</td>\n",
       "    </tr>\n",
       "  </tbody>\n",
       "</table>\n",
       "<p>388 rows × 10 columns</p>\n",
       "</div>"
      ],
      "text/plain": [
       "     City_ID           city  Cloudiness Country        Date  Humidity    Lat  \\\n",
       "3     360630          Cairo          20      EG  1603843951        73  30.06   \n",
       "5    1735106    George Town          20      MY  1603843992        94   5.41   \n",
       "6    2221046        Yabassi          64      CM  1603843992        91   4.46   \n",
       "8    2110227     Butaritari          98      KI  1603843993        66   3.07   \n",
       "10   3421765     Nanortalik         100      GL  1603843993        90  60.14   \n",
       "..       ...            ...         ...     ...         ...       ...    ...   \n",
       "555  2120047    Ust'-Omchug           0      RU  1603844135        85  61.15   \n",
       "556  5380437  Pacific Grove           1      US  1603844135        13  36.62   \n",
       "557  3421319           Nuuk           0      GL  1603843945        79  64.18   \n",
       "558  2460954       Araouane           0      ML  1603844136        14  18.90   \n",
       "559   687196    Zhovti Vody           0      UA  1603844136        81  48.35   \n",
       "\n",
       "        Lng  Max Temp  Wind Speed  \n",
       "3     31.25     71.60        6.93  \n",
       "5    100.34     77.00        3.36  \n",
       "6      9.97     74.98        0.16  \n",
       "8    172.79     80.98        4.43  \n",
       "10   -45.24     30.42        4.25  \n",
       "..      ...       ...         ...  \n",
       "555  149.63     19.09        1.21  \n",
       "556 -121.92     73.40        5.82  \n",
       "557  -51.72     24.01        5.99  \n",
       "558   -3.53     84.52        3.04  \n",
       "559   33.50     44.60        6.71  \n",
       "\n",
       "[388 rows x 10 columns]"
      ]
     },
     "execution_count": 31,
     "metadata": {},
     "output_type": "execute_result"
    }
   ],
   "source": [
    "# Northern Hemisphere DataFrame\n",
    "Northern=citiesDF.loc[citiesDF[\"Lat\"]>0]\n",
    "Northern"
   ]
  },
  {
   "cell_type": "code",
   "execution_count": 32,
   "metadata": {},
   "outputs": [
    {
     "data": {
      "text/html": [
       "<div>\n",
       "<style scoped>\n",
       "    .dataframe tbody tr th:only-of-type {\n",
       "        vertical-align: middle;\n",
       "    }\n",
       "\n",
       "    .dataframe tbody tr th {\n",
       "        vertical-align: top;\n",
       "    }\n",
       "\n",
       "    .dataframe thead th {\n",
       "        text-align: right;\n",
       "    }\n",
       "</style>\n",
       "<table border=\"1\" class=\"dataframe\">\n",
       "  <thead>\n",
       "    <tr style=\"text-align: right;\">\n",
       "      <th></th>\n",
       "      <th>City_ID</th>\n",
       "      <th>city</th>\n",
       "      <th>Cloudiness</th>\n",
       "      <th>Country</th>\n",
       "      <th>Date</th>\n",
       "      <th>Humidity</th>\n",
       "      <th>Lat</th>\n",
       "      <th>Lng</th>\n",
       "      <th>Max Temp</th>\n",
       "      <th>Wind Speed</th>\n",
       "    </tr>\n",
       "  </thead>\n",
       "  <tbody>\n",
       "    <tr>\n",
       "      <th>0</th>\n",
       "      <td>3887127</td>\n",
       "      <td>Iquique</td>\n",
       "      <td>0</td>\n",
       "      <td>CL</td>\n",
       "      <td>1603843991</td>\n",
       "      <td>68</td>\n",
       "      <td>-20.22</td>\n",
       "      <td>-70.14</td>\n",
       "      <td>64.40</td>\n",
       "      <td>13.87</td>\n",
       "    </tr>\n",
       "    <tr>\n",
       "      <th>1</th>\n",
       "      <td>934322</td>\n",
       "      <td>Mahébourg</td>\n",
       "      <td>3</td>\n",
       "      <td>MU</td>\n",
       "      <td>1603843991</td>\n",
       "      <td>80</td>\n",
       "      <td>-20.41</td>\n",
       "      <td>57.70</td>\n",
       "      <td>70.00</td>\n",
       "      <td>1.99</td>\n",
       "    </tr>\n",
       "    <tr>\n",
       "      <th>2</th>\n",
       "      <td>1637001</td>\n",
       "      <td>Biak</td>\n",
       "      <td>99</td>\n",
       "      <td>ID</td>\n",
       "      <td>1603843775</td>\n",
       "      <td>67</td>\n",
       "      <td>-0.91</td>\n",
       "      <td>122.88</td>\n",
       "      <td>82.62</td>\n",
       "      <td>3.74</td>\n",
       "    </tr>\n",
       "    <tr>\n",
       "      <th>4</th>\n",
       "      <td>3833367</td>\n",
       "      <td>Ushuaia</td>\n",
       "      <td>40</td>\n",
       "      <td>AR</td>\n",
       "      <td>1603843840</td>\n",
       "      <td>39</td>\n",
       "      <td>-54.80</td>\n",
       "      <td>-68.30</td>\n",
       "      <td>46.40</td>\n",
       "      <td>8.05</td>\n",
       "    </tr>\n",
       "    <tr>\n",
       "      <th>7</th>\n",
       "      <td>3361934</td>\n",
       "      <td>Saldanha</td>\n",
       "      <td>100</td>\n",
       "      <td>ZA</td>\n",
       "      <td>1603843992</td>\n",
       "      <td>87</td>\n",
       "      <td>-33.01</td>\n",
       "      <td>17.94</td>\n",
       "      <td>59.00</td>\n",
       "      <td>2.24</td>\n",
       "    </tr>\n",
       "    <tr>\n",
       "      <th>...</th>\n",
       "      <td>...</td>\n",
       "      <td>...</td>\n",
       "      <td>...</td>\n",
       "      <td>...</td>\n",
       "      <td>...</td>\n",
       "      <td>...</td>\n",
       "      <td>...</td>\n",
       "      <td>...</td>\n",
       "      <td>...</td>\n",
       "      <td>...</td>\n",
       "    </tr>\n",
       "    <tr>\n",
       "      <th>538</th>\n",
       "      <td>1644605</td>\n",
       "      <td>Galesong</td>\n",
       "      <td>20</td>\n",
       "      <td>ID</td>\n",
       "      <td>1603844127</td>\n",
       "      <td>88</td>\n",
       "      <td>-5.32</td>\n",
       "      <td>119.37</td>\n",
       "      <td>78.80</td>\n",
       "      <td>2.24</td>\n",
       "    </tr>\n",
       "    <tr>\n",
       "      <th>541</th>\n",
       "      <td>3405051</td>\n",
       "      <td>Borba</td>\n",
       "      <td>95</td>\n",
       "      <td>BR</td>\n",
       "      <td>1603844128</td>\n",
       "      <td>95</td>\n",
       "      <td>-4.39</td>\n",
       "      <td>-59.59</td>\n",
       "      <td>74.79</td>\n",
       "      <td>1.54</td>\n",
       "    </tr>\n",
       "    <tr>\n",
       "      <th>548</th>\n",
       "      <td>3445418</td>\n",
       "      <td>Vazante</td>\n",
       "      <td>50</td>\n",
       "      <td>BR</td>\n",
       "      <td>1603844115</td>\n",
       "      <td>69</td>\n",
       "      <td>-17.99</td>\n",
       "      <td>-46.91</td>\n",
       "      <td>76.53</td>\n",
       "      <td>4.27</td>\n",
       "    </tr>\n",
       "    <tr>\n",
       "      <th>553</th>\n",
       "      <td>3837213</td>\n",
       "      <td>San Juan</td>\n",
       "      <td>37</td>\n",
       "      <td>AR</td>\n",
       "      <td>1603844134</td>\n",
       "      <td>21</td>\n",
       "      <td>-31.54</td>\n",
       "      <td>-68.54</td>\n",
       "      <td>74.57</td>\n",
       "      <td>19.19</td>\n",
       "    </tr>\n",
       "    <tr>\n",
       "      <th>560</th>\n",
       "      <td>2057087</td>\n",
       "      <td>Kupang</td>\n",
       "      <td>18</td>\n",
       "      <td>ID</td>\n",
       "      <td>1603844101</td>\n",
       "      <td>67</td>\n",
       "      <td>-10.17</td>\n",
       "      <td>123.58</td>\n",
       "      <td>85.03</td>\n",
       "      <td>5.91</td>\n",
       "    </tr>\n",
       "  </tbody>\n",
       "</table>\n",
       "<p>173 rows × 10 columns</p>\n",
       "</div>"
      ],
      "text/plain": [
       "     City_ID       city  Cloudiness Country        Date  Humidity    Lat  \\\n",
       "0    3887127    Iquique           0      CL  1603843991        68 -20.22   \n",
       "1     934322  Mahébourg           3      MU  1603843991        80 -20.41   \n",
       "2    1637001       Biak          99      ID  1603843775        67  -0.91   \n",
       "4    3833367    Ushuaia          40      AR  1603843840        39 -54.80   \n",
       "7    3361934   Saldanha         100      ZA  1603843992        87 -33.01   \n",
       "..       ...        ...         ...     ...         ...       ...    ...   \n",
       "538  1644605   Galesong          20      ID  1603844127        88  -5.32   \n",
       "541  3405051      Borba          95      BR  1603844128        95  -4.39   \n",
       "548  3445418    Vazante          50      BR  1603844115        69 -17.99   \n",
       "553  3837213   San Juan          37      AR  1603844134        21 -31.54   \n",
       "560  2057087     Kupang          18      ID  1603844101        67 -10.17   \n",
       "\n",
       "        Lng  Max Temp  Wind Speed  \n",
       "0    -70.14     64.40       13.87  \n",
       "1     57.70     70.00        1.99  \n",
       "2    122.88     82.62        3.74  \n",
       "4    -68.30     46.40        8.05  \n",
       "7     17.94     59.00        2.24  \n",
       "..      ...       ...         ...  \n",
       "538  119.37     78.80        2.24  \n",
       "541  -59.59     74.79        1.54  \n",
       "548  -46.91     76.53        4.27  \n",
       "553  -68.54     74.57       19.19  \n",
       "560  123.58     85.03        5.91  \n",
       "\n",
       "[173 rows x 10 columns]"
      ]
     },
     "execution_count": 32,
     "metadata": {},
     "output_type": "execute_result"
    }
   ],
   "source": [
    "# Southern Hemisphere DataFrame\n",
    "Southern=citiesDF.loc[citiesDF[\"Lat\"]<0]\n",
    "Southern"
   ]
  },
  {
   "cell_type": "markdown",
   "metadata": {},
   "source": [
    "####  Northern Hemisphere - Max Temp vs. Latitude Linear Regression"
   ]
  },
  {
   "cell_type": "code",
   "execution_count": 33,
   "metadata": {},
   "outputs": [
    {
     "data": {
      "image/png": "[encoded data removed]",
      "text/plain": [
       "<Figure size 432x288 with 1 Axes>"
      ]
     },
     "metadata": {
      "needs_background": "light"
     },
     "output_type": "display_data"
    }
   ],
   "source": [
    "x_values = Northern['Lat']\n",
    "y_values = Northern['Max Temp']\n",
    "(slope, intercept, rvalue, pvalue, stderr) = linregress(x_values, y_values)\n",
    "regress_values = x_values * slope + intercept\n",
    "line_eq = \"y = \" + str(round(slope,2)) + \"x + \" + str(round(intercept,2))\n",
    "plt.scatter(x_values,y_values)\n",
    "plt.plot(x_values,regress_values,\"r-\")\n",
    "plt.annotate(line_eq,(6,10),fontsize=15,color=\"blue\")\n",
    "plt.xlabel('Latitude')\n",
    "plt.ylabel('Temperature')\n",
    "plt.title(\"Northern Hemisphere : Latitude vs Temperature\")\n",
    "plt.annotate(line_eq, (20,15))\n",
    "plt.show()"
   ]
  },
  {
   "cell_type": "markdown",
   "metadata": {},
   "source": [
    "####  Southern Hemisphere - Max Temp vs. Latitude Linear Regression"
   ]
  },
  {
   "cell_type": "code",
   "execution_count": 34,
   "metadata": {},
   "outputs": [
    {
     "data": {
      "image/png": "[encoded data removed]",
      "text/plain": [
       "<Figure size 432x288 with 1 Axes>"
      ]
     },
     "metadata": {
      "needs_background": "light"
     },
     "output_type": "display_data"
    }
   ],
   "source": [
    "x_values = Southern['Lat']\n",
    "y_values = Southern['Max Temp']\n",
    "(slope, intercept, rvalue, pvalue, stderr) = linregress(x_values, y_values)\n",
    "regress_values = x_values * slope + intercept\n",
    "line_eq = \"y = \" + str(round(slope,2)) + \"x + \" + str(round(intercept,2))\n",
    "plt.scatter(x_values,y_values)\n",
    "plt.plot(x_values,regress_values,\"r-\")\n",
    "plt.annotate(line_eq,(6,10),fontsize=15,color=\"blue\")\n",
    "plt.xlabel('Latitude')\n",
    "plt.ylabel('Temperature')\n",
    "plt.title(\"Southern Hemisphere : Latitude vs Temperature\")\n",
    "plt.annotate(line_eq, (20,15))\n",
    "plt.show()"
   ]
  },
  {
   "cell_type": "code",
   "execution_count": null,
   "metadata": {},
   "outputs": [],
   "source": [
    "#Explanations:\n",
    "#this lineal regression explains how distance from the ecuator affects for max temperatures.\n",
    "#My guess, it is that such temperatures may happen on summer time for North Hemisphere."
   ]
  },
  {
   "cell_type": "markdown",
   "metadata": {},
   "source": [
    "####  Northern Hemisphere - Humidity (%) vs. Latitude Linear Regression"
   ]
  },
  {
   "cell_type": "code",
   "execution_count": 35,
   "metadata": {},
   "outputs": [
    {
     "data": {
      "image/png": "[encoded data removed]",
      "text/plain": [
       "<Figure size 432x288 with 1 Axes>"
      ]
     },
     "metadata": {
      "needs_background": "light"
     },
     "output_type": "display_data"
    }
   ],
   "source": [
    "x_values = Northern['Lat']\n",
    "y_values = Northern['Humidity']\n",
    "(slope, intercept, rvalue, pvalue, stderr) = linregress(x_values, y_values)\n",
    "regress_values = x_values * slope + intercept\n",
    "line_eq = \"y = \" + str(round(slope,2)) + \"x + \" + str(round(intercept,2))\n",
    "plt.scatter(x_values,y_values)\n",
    "plt.plot(x_values,regress_values,\"r-\")\n",
    "plt.annotate(line_eq,(6,10),fontsize=15,color=\"blue\")\n",
    "plt.xlabel('Latitude')\n",
    "plt.ylabel('Humidity (%)')\n",
    "plt.title(\"Northern Hemisphere Humidity (%) vs. Latitude Linear Regression\")\n",
    "plt.annotate(line_eq, (20,15))\n",
    "plt.show()"
   ]
  },
  {
   "cell_type": "markdown",
   "metadata": {},
   "source": [
    "####  Southern Hemisphere - Humidity (%) vs. Latitude Linear Regression"
   ]
  },
  {
   "cell_type": "code",
   "execution_count": 36,
   "metadata": {},
   "outputs": [
    {
     "data": {
      "image/png": "[encoded data removed]",
      "text/plain": [
       "<Figure size 432x288 with 1 Axes>"
      ]
     },
     "metadata": {
      "needs_background": "light"
     },
     "output_type": "display_data"
    }
   ],
   "source": [
    "x_values = Southern['Lat']\n",
    "y_values = Southern['Max Temp']\n",
    "(slope, intercept, rvalue, pvalue, stderr) = linregress(x_values, y_values)\n",
    "regress_values = x_values * slope + intercept\n",
    "line_eq = \"y = \" + str(round(slope,2)) + \"x + \" + str(round(intercept,2))\n",
    "plt.scatter(x_values,y_values)\n",
    "plt.plot(x_values,regress_values,\"r-\")\n",
    "plt.annotate(line_eq,(6,10),fontsize=15,color=\"blue\")\n",
    "plt.xlabel('Latitude')\n",
    "plt.ylabel('Humidity (%)')\n",
    "plt.title(\"Southern Hemisphere Humidity (%) vs. Latitude Linear Regression\")\n",
    "plt.annotate(line_eq, (20,15))\n",
    "plt.show()"
   ]
  },
  {
   "cell_type": "code",
   "execution_count": null,
   "metadata": {},
   "outputs": [],
   "source": [
    "#Explanations:\n",
    "#this lineal regression explains how distance from the ecuator affects for Humidity.\n",
    "#Seems that it changes in reference to distance from the ecuador and in reference to the poles."
   ]
  },
  {
   "cell_type": "markdown",
   "metadata": {},
   "source": [
    "####  Northern Hemisphere - Cloudiness (%) vs. Latitude Linear Regression"
   ]
  },
  {
   "cell_type": "code",
   "execution_count": 37,
   "metadata": {},
   "outputs": [
    {
     "data": {
      "image/png": "[encoded data removed]",
      "text/plain": [
       "<Figure size 432x288 with 1 Axes>"
      ]
     },
     "metadata": {
      "needs_background": "light"
     },
     "output_type": "display_data"
    }
   ],
   "source": [
    "x_values = Northern['Lat']\n",
    "y_values = Northern['Cloudiness']\n",
    "(slope, intercept, rvalue, pvalue, stderr) = linregress(x_values, y_values)\n",
    "regress_values = x_values * slope + intercept\n",
    "line_eq = \"y = \" + str(round(slope,2)) + \"x + \" + str(round(intercept,2))\n",
    "plt.scatter(x_values,y_values)\n",
    "plt.plot(x_values,regress_values,\"r-\")\n",
    "plt.annotate(line_eq,(6,10),fontsize=15,color=\"blue\")\n",
    "plt.xlabel('Latitude')\n",
    "plt.ylabel('Cloudiness')\n",
    "plt.title(\"Northern Hemisphere Cloudiness vs. Latitude Linear Regression\")\n",
    "plt.annotate(line_eq, (20,15))\n",
    "plt.show()"
   ]
  },
  {
   "cell_type": "markdown",
   "metadata": {},
   "source": [
    "####  Southern Hemisphere - Cloudiness (%) vs. Latitude Linear Regression"
   ]
  },
  {
   "cell_type": "code",
   "execution_count": 38,
   "metadata": {},
   "outputs": [
    {
     "data": {
      "image/png": "[encoded data removed]",
      "text/plain": [
       "<Figure size 432x288 with 1 Axes>"
      ]
     },
     "metadata": {
      "needs_background": "light"
     },
     "output_type": "display_data"
    }
   ],
   "source": [
    "x_values = Southern['Lat']\n",
    "y_values = Southern['Cloudiness']\n",
    "(slope, intercept, rvalue, pvalue, stderr) = linregress(x_values, y_values)\n",
    "regress_values = x_values * slope + intercept\n",
    "line_eq = \"y = \" + str(round(slope,2)) + \"x + \" + str(round(intercept,2))\n",
    "plt.scatter(x_values,y_values)\n",
    "plt.plot(x_values,regress_values,\"r-\")\n",
    "plt.annotate(line_eq,(6,10),fontsize=15,color=\"blue\")\n",
    "plt.xlabel('Latitude')\n",
    "plt.ylabel('Cloudiness')\n",
    "plt.title(\"Southern Hemisphere Cloudiness vs. Latitude Linear Regression\")\n",
    "plt.annotate(line_eq, (20,15))\n",
    "plt.show()"
   ]
  },
  {
   "cell_type": "code",
   "execution_count": null,
   "metadata": {},
   "outputs": [],
   "source": [
    "#Explanations:\n",
    "#this lineal regression explains how distance from the ecuator affects for existece of clouds.\n",
    "#This can not be concistent because this could be affected by other factors like winds and Temperatures that may cause these clouds and sometimes storms and typhons."
   ]
  },
  {
   "cell_type": "markdown",
   "metadata": {},
   "source": [
    "####  Northern Hemisphere - Wind Speed (mph) vs. Latitude Linear Regression"
   ]
  },
  {
   "cell_type": "code",
   "execution_count": 39,
   "metadata": {},
   "outputs": [
    {
     "data": {
      "image/png": "[encoded data removed]",
      "text/plain": [
       "<Figure size 432x288 with 1 Axes>"
      ]
     },
     "metadata": {
      "needs_background": "light"
     },
     "output_type": "display_data"
    }
   ],
   "source": [
    "x_values = Northern['Lat']\n",
    "y_values = Northern['Wind Speed']\n",
    "(slope, intercept, rvalue, pvalue, stderr) = linregress(x_values, y_values)\n",
    "regress_values = x_values * slope + intercept\n",
    "line_eq = \"y = \" + str(round(slope,2)) + \"x + \" + str(round(intercept,2))\n",
    "plt.scatter(x_values,y_values)\n",
    "plt.plot(x_values,regress_values,\"r-\")\n",
    "plt.annotate(line_eq,(6,10),fontsize=15,color=\"blue\")\n",
    "plt.xlabel('Latitude')\n",
    "plt.ylabel('Wind Speed (mph)')\n",
    "plt.title(\"Northern Hemisphere Wind Speed vs. Latitude Linear Regression\")\n",
    "plt.annotate(line_eq, (20,15))\n",
    "plt.show()"
   ]
  },
  {
   "cell_type": "markdown",
   "metadata": {},
   "source": [
    "####  Southern Hemisphere - Wind Speed (mph) vs. Latitude Linear Regression"
   ]
  },
  {
   "cell_type": "code",
   "execution_count": 40,
   "metadata": {},
   "outputs": [
    {
     "data": {
      "image/png": "[encoded data removed]",
      "text/plain": [
       "<Figure size 432x288 with 1 Axes>"
      ]
     },
     "metadata": {
      "needs_background": "light"
     },
     "output_type": "display_data"
    }
   ],
   "source": [
    "x_values = Southern['Lat']\n",
    "y_values = Southern['Wind Speed']\n",
    "(slope, intercept, rvalue, pvalue, stderr) = linregress(x_values, y_values)\n",
    "regress_values = x_values * slope + intercept\n",
    "line_eq = \"y = \" + str(round(slope,2)) + \"x + \" + str(round(intercept,2))\n",
    "plt.scatter(x_values,y_values)\n",
    "plt.plot(x_values,regress_values,\"r-\")\n",
    "plt.annotate(line_eq,(6,10),fontsize=15,color=\"blue\")\n",
    "plt.xlabel('Latitude')\n",
    "plt.ylabel('Wind Speed (mph)')\n",
    "plt.title(\"Southern Hemisphere Wind Speed vs. Latitude Linear Regression\")\n",
    "plt.annotate(line_eq, (20,15))\n",
    "plt.show()"
   ]
  },
  {
   "cell_type": "code",
   "execution_count": null,
   "metadata": {},
   "outputs": [],
   "source": [
    "#Explanations:\n",
    "#this lineal regression explains how distance from the ecuator affects for wind speed\n",
    "#This also can be affected by storms,heigh or if it is in a mountain or a valley just too mention other factors."
   ]
  }
 ],
 "metadata": {
  "anaconda-cloud": {},
  "kernel_info": {
   "name": "python3"
  },
  "kernelspec": {
   "display_name": "Python 3",
   "language": "python",
   "name": "python3"
  },
  "language_info": {
   "codemirror_mode": {
    "name": "ipython",
    "version": 3
   },
   "file_extension": ".py",
   "mimetype": "text/x-python",
   "name": "python",
   "nbconvert_exporter": "python",
   "pygments_lexer": "ipython3",
   "version": "3.8.3"
  },
  "latex_envs": {
   "LaTeX_envs_menu_present": true,
   "autoclose": false,
   "autocomplete": true,
   "bibliofile": "biblio.bib",
   "cite_by": "apalike",
   "current_citInitial": 1,
   "eqLabelWithNumbers": true,
   "eqNumInitial": 1,
   "hotkeys": {
    "equation": "Ctrl-E",
    "itemize": "Ctrl-I"
   },
   "labels_anchors": false,
   "latex_user_defs": false,
   "report_style_numbering": false,
   "user_envs_cfg": false
  },
  "nteract": {
   "version": "0.12.3"
  }
 },
 "nbformat": 4,
 "nbformat_minor": 2
}
